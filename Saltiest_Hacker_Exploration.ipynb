# This was shared with us by Adrien du Plessis from DSPT 2
{
 "cells": [
  {
   "cell_type": "markdown",
   "metadata": {
    "colab_type": "text",
    "id": "view-in-github"
   },
   "source": [
    "<a href=\"https://colab.research.google.com/github/KryssyCo/API/blob/master/Saltiest_Hacker_Exploration.ipynb\" target=\"_parent\"><img src=\"https://colab.research.google.com/assets/colab-badge.svg\" alt=\"Open In Colab\"/></a>"
   ]
  },
  {
   "cell_type": "code",
   "execution_count": 1,
   "metadata": {
    "colab": {},
    "colab_type": "code",
    "id": "Z2omqxX_3SJm"
   },
   "outputs": [],
   "source": [
    "import requests"
   ]
  },
  {
   "cell_type": "code",
   "execution_count": 2,
   "metadata": {
    "colab": {
     "base_uri": "https://localhost:8080/",
     "height": 34
    },
    "colab_type": "code",
    "id": "EkyA7e0Q3Xm8",
    "outputId": "5c737040-1f67-43f4-af3d-b0683bef84ed"
   },
   "outputs": [
    {
     "name": "stdout",
     "output_type": "stream",
     "text": [
      "Success!\n"
     ]
    }
   ],
   "source": [
    "username = \"kick\"\n",
    "response = requests.get(f'https://hacker-news.firebaseio.com/v0/user/{username}.json')\n",
    "# response.encoding = 'utf-8'\n",
    "\n",
    "# Confirm connection success.\n",
    "if response:\n",
    "    print('Success!')\n",
    "else:\n",
    "    print('An error has occurred.')"
   ]
  },
  {
   "cell_type": "code",
   "execution_count": 3,
   "metadata": {
    "colab": {},
    "colab_type": "code",
    "id": "97GMnDWP4R4l"
   },
   "outputs": [],
   "source": [
    "number_of_posts = len(response.json()[\"submitted\"])"
   ]
  },
  {
   "cell_type": "code",
   "execution_count": 4,
   "metadata": {
    "colab": {},
    "colab_type": "code",
    "id": "yoGkPnRoUjSs"
   },
   "outputs": [],
   "source": [
    "import json\n",
    "\n",
    "def get_user_posts(username, filter_posts=\"all\", limit=100):\n",
    "    \"\"\"\n",
    "    Filter by type of item. \n",
    "    One of \"job\", \"story\", \"comment\", \"poll\", or \"pollopt\"\n",
    "    Default: type='comment', limit='100'\n",
    "    \"\"\"\n",
    "    # TODO: currently only supports 'comment' type\n",
    "\n",
    "    response = requests.get(f'https://hacker-news.firebaseio.com/v0/user/{username}.json')\n",
    "    post_ids = response.json()[\"submitted\"]\n",
    "    \n",
    "    filtered_post_ids = []\n",
    "    filtered_posts = []\n",
    "   \n",
    "    for post_id in post_ids:\n",
    "        \n",
    "        # post is a python dict\n",
    "        post = requests.get(f'https://hacker-news.firebaseio.com/v0/item/{post_id}.json').json()\n",
    "\n",
    "        if (post['type'] == filter_posts):\n",
    "            \n",
    "            text = post.get('text')   \n",
    "            \n",
    "            # text==null if post was deleted\n",
    "            if text:\n",
    "                filtered_posts.append(text)\n",
    "                filtered_post_ids.append(post_id)\n",
    "        \n",
    "        # Checks whether the specified limit has been reached\n",
    "        if len(filtered_posts) == limit:\n",
    "            break\n",
    "\n",
    "    return filtered_post_ids, filtered_posts\n"
   ]
  },
  {
   "cell_type": "code",
   "execution_count": 5,
   "metadata": {
    "colab": {},
    "colab_type": "code",
    "id": "SC8KAykIW5ii"
   },
   "outputs": [],
   "source": [
    "ids, posts = get_user_posts('kick',filter_posts='comment', limit=300)"
   ]
  },
  {
   "cell_type": "code",
   "execution_count": null,
   "metadata": {
    "colab": {
     "base_uri": "https://localhost:8080/",
     "height": 34
    },
    "colab_type": "code",
    "id": "BAyfTzPks4Ow",
    "outputId": "8369c195-e890-4019-8a78-5e74879e4398"
   },
   "outputs": [
    {
     "data": {
      "text/plain": [
       "(300, 300)"
      ]
     },
     "execution_count": 6,
     "metadata": {
      "tags": []
     },
     "output_type": "execute_result"
    }
   ],
   "source": [
    "len(posts), len(ids)"
   ]
  },
  {
   "cell_type": "code",
   "execution_count": 6,
   "metadata": {},
   "outputs": [
    {
     "data": {
      "text/plain": [
       "'GIMP changing its name seems pointless at this point, especially because of where the conversations there led. It would have been smarter for them to argue that &quot;gimp&quot; is a sexual term, and therefore gross, rather than an antiquated ableist term, because the former is more common than the latter usage (which is never used).<p>Reiser&#x27;s accomplishments are already out there, there&#x27;s no need to continue with his name on something he hasn&#x27;t contributed a patch to in a decade, and there&#x27;s literally no harm in changing the name of a program like this; it&#x27;s not a binary decision between &quot;remember the person&quot; and &quot;use their work,&quot; plenty of people have their work utilized despite no one knowing their name. I think that&#x27;s fine.'"
      ]
     },
     "execution_count": 6,
     "metadata": {},
     "output_type": "execute_result"
    }
   ],
   "source": [
    "posts[0]"
   ]
  },
  {
   "cell_type": "code",
   "execution_count": 14,
   "metadata": {},
   "outputs": [
    {
     "data": {
      "text/plain": [
       "21930734"
      ]
     },
     "execution_count": 14,
     "metadata": {},
     "output_type": "execute_result"
    }
   ],
   "source": [
    "ids[6]"
   ]
  },
  {
   "cell_type": "code",
   "execution_count": 23,
   "metadata": {
    "colab": {},
    "colab_type": "code",
    "id": "__OjRHPnhU5z"
   },
   "outputs": [],
   "source": [
    "post_id = 21928831\n",
    "post = requests.get(f'https://hacker-news.firebaseio.com/v0/item/{post_id}.json').json()"
   ]
  },
  {
   "cell_type": "code",
   "execution_count": 24,
   "metadata": {
    "colab": {
     "base_uri": "https://localhost:8080/",
     "height": 154
    },
    "colab_type": "code",
    "id": "2WAdo6X1iCTl",
    "outputId": "61ffd172-ac14-4ab2-c175-4662713268c5"
   },
   "outputs": [
    {
     "data": {
      "text/plain": [
       "{'by': 'perakojotgenije',\n",
       " 'descendants': 136,\n",
       " 'id': 21928831,\n",
       " 'kids': [21929174,\n",
       "  21933632,\n",
       "  21929258,\n",
       "  21929881,\n",
       "  21929581,\n",
       "  21930597,\n",
       "  21932590,\n",
       "  21932961,\n",
       "  21930119,\n",
       "  21929478,\n",
       "  21929776,\n",
       "  21934033,\n",
       "  21929475,\n",
       "  21929528,\n",
       "  21929483,\n",
       "  21930973,\n",
       "  21930450,\n",
       "  21929553,\n",
       "  21930482,\n",
       "  21932611,\n",
       "  21931965,\n",
       "  21931471,\n",
       "  21929869,\n",
       "  21930044,\n",
       "  21930037],\n",
       " 'score': 423,\n",
       " 'time': 1577896963,\n",
       " 'title': 'Godot Engine – A decade in retrospective and future',\n",
       " 'type': 'story',\n",
       " 'url': 'https://godotengine.org/article/retrospective-and-future'}"
      ]
     },
     "execution_count": 24,
     "metadata": {},
     "output_type": "execute_result"
    }
   ],
   "source": [
    "post"
   ]
  },
  {
   "cell_type": "code",
   "execution_count": null,
   "metadata": {
    "colab": {},
    "colab_type": "code",
    "id": "0AFlTpRSA0bI"
   },
   "outputs": [],
   "source": [
    "#Wrong\n",
    "# response = requests.get('https://hacker-news.firebaseio.com/v0/item?id=21831485.json?print=pretty')\n",
    "\n",
    "# Correct\n",
    "id = 21831427\n",
    "response = requests.get(f'https://hacker-news.firebaseio.com/v0/item/{id}.json')"
   ]
  },
  {
   "cell_type": "code",
   "execution_count": null,
   "metadata": {
    "colab": {},
    "colab_type": "code",
    "id": "JtENZ0RkY1-i"
   },
   "outputs": [],
   "source": []
  },
  {
   "cell_type": "code",
   "execution_count": null,
   "metadata": {
    "colab": {
     "base_uri": "https://localhost:8080/",
     "height": 54
    },
    "colab_type": "code",
    "id": "v-nn7g__AzKv",
    "outputId": "4899cd19-31ab-4374-84af-b79cbaa23a88"
   },
   "outputs": [
    {
     "data": {
      "text/plain": [
       "'Calling and SMS works without proprietary software already. The ubPorts people already did it:<p><a href=\"https:&#x2F;&#x2F;twitter.com&#x2F;thepine64&#x2F;status&#x2F;1202162774186582017\" rel=\"nofollow\">https:&#x2F;&#x2F;twitter.com&#x2F;thepine64&#x2F;status&#x2F;1202162774186582017</a>'"
      ]
     },
     "execution_count": 10,
     "metadata": {
      "tags": []
     },
     "output_type": "execute_result"
    }
   ],
   "source": [
    "response.json()['text']"
   ]
  },
  {
   "cell_type": "code",
   "execution_count": null,
   "metadata": {
    "colab": {
     "base_uri": "https://localhost:8080/",
     "height": 229
    },
    "colab_type": "code",
    "id": "Fwmxie824TMP",
    "outputId": "128f2744-fe70-4ed3-b847-79909f7bd490"
   },
   "outputs": [
    {
     "ename": "AttributeError",
     "evalue": "ignored",
     "output_type": "error",
     "traceback": [
      "\u001b[0;31m---------------------------------------------------------------------------\u001b[0m",
      "\u001b[0;31mAttributeError\u001b[0m                            Traceback (most recent call last)",
      "\u001b[0;32m<ipython-input-11-8131a261ba42>\u001b[0m in \u001b[0;36m<module>\u001b[0;34m()\u001b[0m\n\u001b[1;32m     10\u001b[0m     \u001b[0;31m# Get item\u001b[0m\u001b[0;34m\u001b[0m\u001b[0;34m\u001b[0m\u001b[0;34m\u001b[0m\u001b[0m\n\u001b[1;32m     11\u001b[0m     \u001b[0mitem_response\u001b[0m \u001b[0;34m=\u001b[0m \u001b[0murllib\u001b[0m\u001b[0;34m.\u001b[0m\u001b[0mrequest\u001b[0m\u001b[0;34m.\u001b[0m\u001b[0murlopen\u001b[0m\u001b[0;34m(\u001b[0m\u001b[0mbase_url\u001b[0m \u001b[0;34m+\u001b[0m \u001b[0mstr\u001b[0m\u001b[0;34m(\u001b[0m\u001b[0mitemid\u001b[0m\u001b[0;34m)\u001b[0m \u001b[0;34m+\u001b[0m \u001b[0;34m'.json'\u001b[0m\u001b[0;34m)\u001b[0m\u001b[0;34m\u001b[0m\u001b[0;34m\u001b[0m\u001b[0m\n\u001b[0;32m---> 12\u001b[0;31m     \u001b[0mresponse_string\u001b[0m \u001b[0;34m=\u001b[0m \u001b[0mitem_response\u001b[0m\u001b[0;34m.\u001b[0m\u001b[0mreadall\u001b[0m\u001b[0;34m(\u001b[0m\u001b[0;34m)\u001b[0m\u001b[0;34m.\u001b[0m\u001b[0mdecode\u001b[0m\u001b[0;34m(\u001b[0m\u001b[0;34m'utf-8'\u001b[0m\u001b[0;34m)\u001b[0m\u001b[0;34m\u001b[0m\u001b[0;34m\u001b[0m\u001b[0m\n\u001b[0m\u001b[1;32m     13\u001b[0m     \u001b[0mitem\u001b[0m \u001b[0;34m=\u001b[0m \u001b[0mjson\u001b[0m\u001b[0;34m.\u001b[0m\u001b[0mloads\u001b[0m\u001b[0;34m(\u001b[0m\u001b[0mresponse_string\u001b[0m\u001b[0;34m)\u001b[0m\u001b[0;34m\u001b[0m\u001b[0;34m\u001b[0m\u001b[0m\n\u001b[1;32m     14\u001b[0m \u001b[0;34m\u001b[0m\u001b[0m\n",
      "\u001b[0;31mAttributeError\u001b[0m: 'HTTPResponse' object has no attribute 'readall'"
     ]
    }
}
