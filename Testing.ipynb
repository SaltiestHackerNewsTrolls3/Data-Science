{
 "cells": [
  {
   "cell_type": "code",
   "execution_count": 2,
   "metadata": {},
   "outputs": [],
   "source": [
    "import numpy as np\n",
    "import pandas as pd\n",
    "import tensorflow.keras as K\n",
    "import tensorflow as tf\n",
    "import psycopg2\n",
    "from decouple import config\n",
    "import urllib.parse as up\n",
    "from nltk.stem import WordNetLemmatizer"
   ]
  },
  {
   "cell_type": "code",
   "execution_count": 3,
   "metadata": {},
   "outputs": [],
   "source": [
    "url = up.urlparse(config(\"DATABASE_URL\"))"
   ]
  },
  {
   "cell_type": "code",
   "execution_count": 4,
   "metadata": {},
   "outputs": [],
   "source": [
    "conn2 = psycopg2.connect(database=url.path[1:],\n",
    "                         user=url.username,\n",
    "                         password=url.password,\n",
    "                         host=url.hostname,\n",
    "                         port=url.port)"
   ]
  },
  {
   "cell_type": "code",
   "execution_count": 5,
   "metadata": {},
   "outputs": [],
   "source": [
    "#Simple function to make sure my SQL DB is connected.\n",
    "def postgres_test():\n",
    "    try:\n",
    "        conn2 = psycopg2.connect(database=url.path[1:],\n",
    "                         user=url.username,\n",
    "                         password=url.password,\n",
    "                         host=url.hostname,\n",
    "                         port=url.port)\n",
    "        conn2.close()\n",
    "        return True\n",
    "    except:\n",
    "        return False"
   ]
  },
  {
   "cell_type": "code",
   "execution_count": 6,
   "metadata": {},
   "outputs": [
    {
     "data": {
      "text/plain": "True"
     },
     "execution_count": 6,
     "metadata": {},
     "output_type": "execute_result"
    }
   ],
   "source": [
    "postgres_test()"
   ]
  },
  {
   "cell_type": "code",
   "execution_count": 7,
   "metadata": {},
   "outputs": [],
   "source": [
    "#Testing individual user queries, but given mvp goals this may not be ideal\n",
    "curs2 = conn2.cursor()\n",
    "#Switched to pulling all data into pandas DF\n",
    "df = pd.read_sql('SELECT * FROM \"HNTroll\"', conn2)\n"
   ]
  },
  {
   "cell_type": "code",
   "execution_count": 8,
   "metadata": {},
   "outputs": [
    {
     "data": {
      "text/html": "<div>\n<style scoped>\n    .dataframe tbody tr th:only-of-type {\n        vertical-align: middle;\n    }\n\n    .dataframe tbody tr th {\n        vertical-align: top;\n    }\n\n    .dataframe thead th {\n        text-align: right;\n    }\n</style>\n<table border=\"1\" class=\"dataframe\">\n  <thead>\n    <tr style=\"text-align: right;\">\n      <th></th>\n      <th>id</th>\n      <th>by</th>\n      <th>author</th>\n      <th>time_ts</th>\n      <th>text</th>\n      <th>parent</th>\n      <th>ranking</th>\n      <th>score</th>\n    </tr>\n  </thead>\n  <tbody>\n    <tr>\n      <td>0</td>\n      <td>2701393</td>\n      <td>5l</td>\n      <td>5l</td>\n      <td>2011-06-27 14:28:01+00:00</td>\n      <td>And the glazier who fixed all the broken windo...</td>\n      <td>2701243</td>\n      <td>0</td>\n      <td>-0.0616</td>\n    </tr>\n    <tr>\n      <td>1</td>\n      <td>5811403</td>\n      <td>99</td>\n      <td>99</td>\n      <td>2013-06-03 04:34:08+00:00</td>\n      <td>Does canada have the equivalent of H1B/Green c...</td>\n      <td>5804452</td>\n      <td>0</td>\n      <td>0.0000</td>\n    </tr>\n    <tr>\n      <td>2</td>\n      <td>21623</td>\n      <td>AF</td>\n      <td>AF</td>\n      <td>2007-05-12 17:53:20+00:00</td>\n      <td>Speaking of Rails, there are other options in ...</td>\n      <td>21611</td>\n      <td>0</td>\n      <td>0.5205</td>\n    </tr>\n    <tr>\n      <td>3</td>\n      <td>10159727</td>\n      <td>EA</td>\n      <td>EA</td>\n      <td>2015-09-02 15:09:34+00:00</td>\n      <td>Humans and large livestock (and maybe even pet...</td>\n      <td>10159396</td>\n      <td>0</td>\n      <td>1.0102</td>\n    </tr>\n    <tr>\n      <td>4</td>\n      <td>2988424</td>\n      <td>Iv</td>\n      <td>Iv</td>\n      <td>2011-09-12 18:53:00+00:00</td>\n      <td>I must say I reacted in the same way when I re...</td>\n      <td>2988179</td>\n      <td>0</td>\n      <td>0.0000</td>\n    </tr>\n  </tbody>\n</table>\n</div>",
      "text/plain": "         id  by author                   time_ts  \\\n0   2701393  5l     5l 2011-06-27 14:28:01+00:00   \n1   5811403  99     99 2013-06-03 04:34:08+00:00   \n2     21623  AF     AF 2007-05-12 17:53:20+00:00   \n3  10159727  EA     EA 2015-09-02 15:09:34+00:00   \n4   2988424  Iv     Iv 2011-09-12 18:53:00+00:00   \n\n                                                text    parent  ranking  \\\n0  And the glazier who fixed all the broken windo...   2701243        0   \n1  Does canada have the equivalent of H1B/Green c...   5804452        0   \n2  Speaking of Rails, there are other options in ...     21611        0   \n3  Humans and large livestock (and maybe even pet...  10159396        0   \n4  I must say I reacted in the same way when I re...   2988179        0   \n\n    score  \n0 -0.0616  \n1  0.0000  \n2  0.5205  \n3  1.0102  \n4  0.0000  "
     },
     "execution_count": 8,
     "metadata": {},
     "output_type": "execute_result"
    }
   ],
   "source": [
    "df.head()"
   ]
  },
  {
   "cell_type": "code",
   "execution_count": 9,
   "metadata": {},
   "outputs": [],
   "source": [
    "df2 = df.copy()\n",
    "df2[\"text\"] = df2[\"text\"].str.replace('[^\\w\\s]','')\n",
    "df2[\"text\"] = df2[\"text\"].str.replace('^https?:\\/\\/.*[\\r\\n]*', '')\n",
    "df2[\"text\"] = df2[\"text\"].str.replace('x27', '')\n",
    "df2[\"text\"] = df2[\"text\"].str.replace('</?[A-Za-z]+>', '')"
   ]
  },
  {
   "cell_type": "code",
   "execution_count": 10,
   "metadata": {},
   "outputs": [],
   "source": [
    "df2[\"text\"] = df2[\"text\"].str.lower()"
   ]
  },
  {
   "cell_type": "code",
   "execution_count": 11,
   "metadata": {},
   "outputs": [
    {
     "data": {
      "text/html": "<div>\n<style scoped>\n    .dataframe tbody tr th:only-of-type {\n        vertical-align: middle;\n    }\n\n    .dataframe tbody tr th {\n        vertical-align: top;\n    }\n\n    .dataframe thead th {\n        text-align: right;\n    }\n</style>\n<table border=\"1\" class=\"dataframe\">\n  <thead>\n    <tr style=\"text-align: right;\">\n      <th></th>\n      <th>id</th>\n      <th>by</th>\n      <th>author</th>\n      <th>time_ts</th>\n      <th>text</th>\n      <th>parent</th>\n      <th>ranking</th>\n      <th>score</th>\n    </tr>\n  </thead>\n  <tbody>\n    <tr>\n      <td>28588</td>\n      <td>2754627</td>\n      <td>rglover</td>\n      <td>rglover</td>\n      <td>2011-07-12 13:30:55+00:00</td>\n      <td>how about using the tumblr2wordpress tool by w...</td>\n      <td>2754490</td>\n      <td>0</td>\n      <td>0.9735</td>\n    </tr>\n    <tr>\n      <td>16241</td>\n      <td>6791678</td>\n      <td>fat0wl</td>\n      <td>fat0wl</td>\n      <td>2013-11-24 23:30:22+00:00</td>\n      <td>hmmm thats true the issue is im a quotfrontend...</td>\n      <td>6791455</td>\n      <td>0</td>\n      <td>0.8504</td>\n    </tr>\n    <tr>\n      <td>11759</td>\n      <td>1887611</td>\n      <td>secos</td>\n      <td>secos</td>\n      <td>2010-11-09 19:31:49+00:00</td>\n      <td>are you meaning two people on a project  if so...</td>\n      <td>1887315</td>\n      <td>0</td>\n      <td>-0.4650</td>\n    </tr>\n    <tr>\n      <td>28041</td>\n      <td>3052967</td>\n      <td>pnathan</td>\n      <td>pnathan</td>\n      <td>2011-09-29 16:00:51+00:00</td>\n      <td>my local staples sells kindles i would suggest...</td>\n      <td>3051440</td>\n      <td>0</td>\n      <td>0.0000</td>\n    </tr>\n    <tr>\n      <td>14362</td>\n      <td>7072355</td>\n      <td>asdasf</td>\n      <td>asdasf</td>\n      <td>2014-01-16 20:36:35+00:00</td>\n      <td>two of them quotcombining effortsquot is remov...</td>\n      <td>7072073</td>\n      <td>0</td>\n      <td>-0.1979</td>\n    </tr>\n  </tbody>\n</table>\n</div>",
      "text/plain": "            id       by   author                   time_ts  \\\n28588  2754627  rglover  rglover 2011-07-12 13:30:55+00:00   \n16241  6791678   fat0wl   fat0wl 2013-11-24 23:30:22+00:00   \n11759  1887611    secos    secos 2010-11-09 19:31:49+00:00   \n28041  3052967  pnathan  pnathan 2011-09-29 16:00:51+00:00   \n14362  7072355   asdasf   asdasf 2014-01-16 20:36:35+00:00   \n\n                                                    text   parent  ranking  \\\n28588  how about using the tumblr2wordpress tool by w...  2754490        0   \n16241  hmmm thats true the issue is im a quotfrontend...  6791455        0   \n11759  are you meaning two people on a project  if so...  1887315        0   \n28041  my local staples sells kindles i would suggest...  3051440        0   \n14362  two of them quotcombining effortsquot is remov...  7072073        0   \n\n        score  \n28588  0.9735  \n16241  0.8504  \n11759 -0.4650  \n28041  0.0000  \n14362 -0.1979  "
     },
     "execution_count": 11,
     "metadata": {},
     "output_type": "execute_result"
    }
   ],
   "source": [
    "df2.sample(5)"
   ]
  },
  {
   "cell_type": "code",
   "execution_count": 12,
   "metadata": {},
   "outputs": [],
   "source": [
    "lemmatizer = WordNetLemmatizer()"
   ]
  },
  {
   "cell_type": "code",
   "execution_count": 13,
   "metadata": {},
   "outputs": [
    {
     "name": "stdout",
     "output_type": "stream",
     "text": "e favorite systems programming interview questionsp tell me about some routines you tend to take with you from project to project whats in libyouso crap devs wont have anyp your code crashes inside the allocator walk me through debugging itp tell me about the most interesting problem you debugged without relying on the debugger or print statementspa question i always ask in dev interviews that isnt as systemsy is your typical linked list code does it embed the list pointer in the struct or do you have a separate list node struct with a void in itpi like the questions that have no direct right answerspone question i think you should always ask in every dev interview i am going to describe project xxx its relatively small give me a complete detailed estimate of how long it will take you to do xxx i like this question because 1 it flags people who cant estimate properly 2 it forces them to talk through an actual project and break down the steps 3 it catches people who dont think about testing\nreally opposite response facing an existential threat to their business  by his own admission gv is practically 11 with them on features free vs paid with his differentiator being accuracy  what hes got is handwaving other people have gone up against us with free paraphrase yes and those people didnt have the strongest brand on the internet\nand germany is highly critical of frances industrial espionage and korea is highly critical of israels industrial espionage wherever you look if youre seeing a highly advanced economy theres a web of industrial espionage connecting it to every other economy\none person who i think disagrees with you is warren buffett\na family of four can expect to pay between 12001500mo on typical conventional hmoppo coverage on cobrapi was agreeing with you just adding a data point\ni am not interested in litigating the virtues of wikileaks perhaps you 38 i can come to some limited agreement that there clearly are secrets held by the us military that should be disclosed and that the citizens of the us deserve better oversight over the conduct of our armed conflicts we probably agree broadly that our conflicts should be radically curtailed as wellpwith all that saidpi am simply saying that the military has an extremely valid operational reason for drastically cracking down on servicemembers communicating with organizations like and including wikileaks the military cannot reasonably leave it up to random servicemembers to determine whether what and how things should be leaked it employes over 12 imillioni peoplepwhat im arguing  and i dont assume you agree but heres my argument  is that the alternative policy of saying by all means it is just fine for servicemembers to collaborate with wikileaks so long as that collaboration doesnt violate any of our other regulations is so clearly fraught as to be unreasonable\ni feel like ive written a fair bit of client certificate code in ruby and havent had much of a problem where did you run into problems\nyou realize youre responding to a solo founder of a standalone startup that sells ibingo card creationi software right i have mad respect for patrick hes sitting right next to me at the moment but if you were under the impression that being a bingo card mogul meant cristal and rolex watches uh nophow much more credible a testimonial can you get than i built my business in 5 hours a week i sell bingo cards to school teachers and i easily expect to recoup the investment im making in kissmetricspfor what its worth i sell enterprise software at a price point several orders of magnitude higher than patricks at a company with more employees than most established yc companies and kissmetrics isnt worth it for me right now because im simply not prepared to feed it the data it needs or to make the decisions its expecting me to makepi dont take it personally that kissmetrics is pricing me away from paying for it in fact i appreciate it its preventing me from wasting time\nthe latter interpretation if i understand it correctly is that google engineers randomly poke at peoples emails and in this case just happened to get lucky even stipulating thousands of google engineers doing that that doesnt sound statistically plausible the base rate of child pornography among google mail users is extremely low\nworking on a blog post on this now  actually a response to atwoods recent craziness  but you should know this is a general attack and a wellknown one which i know as error oracle attacks but might have a better formal nameplong story short you cant generate error messages that reveal whether messages decrypted properly or attackers can permute and reply valid messages and use them to reveal plaintext this touches on the same radioactive mistake atwood made earlier this week but even if you dont make his mistake there are simplier implementation errors you can make that have the same impactpa good deck from 2005 from the same group cited herepa hrefhttpeprintsrhulacuk6381error_oracle_attacks_050729_revpdf relnofollowhttpeprintsrhulacuk6381error_oracle_attacks_050729_api could dispute whether this is really a design error in openssh in that you wouldnt want to imply that this was particularly hard to fix the fix for instance wont break compatibility\ni agree with you it is notable that symc flubbed the pr on this i think im trying to say theres probably no story in the executable itself\ntheres a strong urge to come up with a rails stack thats endtoend async that looks and tastes like rails but automagically performs 10x fasterpim not saying thats irrational but its not necessarily the best way to meet speed targets database queries are not immune to the 8020 rule you find the queries that are killing you you factor them into handlers that run straight sql async handlers and you keep standard activerecord for the vast majority of your code that isnt performance sensitive\namong people who actually operate companies or top the commit charts on major projects cto is already a stigmatized title tom prestonwerner is clearly not a donothing statusobsessed hangeron at github but truly excellent people who hold the cto title may actually be the exception at any rate the joke is that cto is the title you get when your team stops letting you commit to the main branch anymorepthe stigma to holding the title cto in any government is way way worsepat any rate whichever private sector notable is promoted to whatever vanity technology role in the government is of little impact to the security of scada networks which are virtually all operated by private companies the secretary of energy had more impact on utility security than any other person in government and that impact was from what i can tell largely negativep iagain im sure tom can commit to whatever branch he wantsip iim not myopic or tunnelfocused on my own field the social value of getting responsive billing and utilization deployed may end up dwarfing the cost of widespread utility vulnerabilities or breaches steven chu is probably an excellent secretary of energyi\nthe subtext here is that people with crossplatform apps tend to report that the majority of their revenue comes from ios so that comment isnt really responsive\nor you could just poke around thefundedcom for a couple minutes to get the same gist with names named\nyouve got me beat by 3 years i think i met her for the first time at pumpcon shes also one of the nicest people i tell my daughter about her all the time its no use she still wants to be an author instead of an engineer\nno i wont\nwhen you start writing threecamelcasewords for your class names its probably time start questioning the designpgofites do this because theyre scared of code dont be afraid of code sure dont poop it all over your files cargo culting it from place to place but also dont file it all away into a necronomicon to be conjured by name like a demon i ankhfnkhonsubase set over those that would render dictionaries ordered by first letters\nin reality it has never been a crime to use or distribute encryption software\ni really dont think we need to rank the freedom riders against the people who stormed the beaches at normandy or even the 19 year olds who are manning the fobs in afghanistan the degree of selflessness and bravery intrinsic in all those actions already pegs the meter lets be thankful for that instead of trying to design an even better meterpi recognize theres probably an antiwar subtext to comments like yours and i respect that sentiment and in many cases probably agree with it but if were going to take anyone down a peg for the dumb actions of the leaders lets let it be the leaders\ni dont understand what you think the point of the competition is or what the point would be to concealing latent vulnerabilities introduced by older versions of safari that remained present in newer versions\npatrick youre the expert here on google traffic direction are any of these changes likely to impact your ranking\nin places outside twitter the foo idiom addresses a comment to that user but thats not always what i intend when i reference a user im simply trying to prevent evaluation of a token as english text\nthis is a rare instance in which the downvotes themselves actually answer your question\nthats not the third option he was thinking of\nthis comes up a lot it seems like a worstofbothworlds solution prolonged sitting has been shown to disrupt fat metabolism prolonged standing is associated with a ininefoldi increase in carotid atherosclerosis even if sitting half the time leaves me with only a idoubledi exposure to atherosclerosis thats not a winpive got a timer on my iphone two different spots in the office to sit my desk and one of the couches in the lobby and no weird gadgets the cornell page seems to suggest that this is pretty optional and i dont have to pronounce any weird ikea furniture names to describe it \nlets definitely harass people who express viewpoints we dont agree with\ni actually dont think you need to know assembly all that well to do exploit dev and reversing what you need ispa nativelevel proficiency with c and the memory hierarchy that c tries to abstract ie you want to understand what goes in registers when and why and how a stack frame is laid out and whypb at least limited working proficiency with compiler theory most especially the analysis of control flow graphspas time goes on knowing little workingprogrammer details like how lea gets used for multiplication is getting much less important and understanding compiler irs particularly llvm is getting more important weirdly but awesomely both exploit dev and reversing is becoming more and more theoretical predicate translations and satisfiability symbolic execution ampc and less and less systemsy and the systemsy stuff is getting largerscale like writing wholesystem emulators to reverse firmware targetspi guess my argument would be you dont ever need to learn how to write a decent assembly program to get to a and b and by the time you have a and b youll ieasilyi be able to pick up whatever assembly you need as you go\nit bothers me that you feel like youd have to ask its the simple truth the word quotwaterboardingquot is designed to abstract what people are actually doing\npotentiation of latent mental illness\nwhy exactly would you want to repeal cispa fast forward 1 year at which time cispa is in effect repeal cispa and then fast forward again 1 day how is that day different than the one before it be as specific as you can\ni think you think you understand my point but you really dontpin a frictionless intellectual vacuum it is true that you can create undetectable covert channels covert channels are a ifundamentali problem in systems security and thats been wellknown since salzerschroederpin the real world the arms race of encoding and detecting extends to the horizon of our understanding of computer science and most importantly software engineering nobody knows all the mistakes that humans will make attempting to engineer systems to do perfect cover channels for the forseeable future both sides of this problem need to come to grips with the fact that theyre armed imperfectlyphowever in the data leak scenario the incentives are lined up to favor the monitors and not the leakers the monitors have budget continuous practice access to all company communications to derive norms and roughly the same access to equipment as the leakers meanwhile if the leakers are caught just once theyre liable for extreme civil and in some cases criminal penalties\nit seems like your second graf is at odds with your first you say the degree quotseparates one from the massesquot but go on to talk about how you hire without regard to degrees i do too and so does every hiring manager in this field that i knowpstatistically having a degree sets you up for 67 figures of extra lifetime income but you have to bear in mind that such figures account for lots of people who would be marginally employable without a degree people who can reliably write code test software or configure complicated systems arent marginally employable they are some of the most employable people in the economy\ntwo thingspfirst every mainstream web framework already comes with a simpletouse way to block forged requests even if we adopted new http verbs to give them a common name in the protocol by the time developers are making decisions theyre not working with the allcapsnamesofhttpverbs anywayspsecond there isnt anything inherently crosssite about csrf so denying offsite posts isnt a complete solution to the problem either every site that accepts any form of usergenerated content must deal with intrasite request forgery as wellpso no i dont think thats a great ideapthe things that are insecure here are iserverside web applicationsi changes to the http protocol or to browsers are a red herring theres no way around it web developers have to figure out how to write secure code\ncommitment to drinkocorp is not actually a virtue just so were clear\ni think everyone here is recognizing that im only pushing back on the notion that words like despicable apply to investments and similar business decisions they dont\nhe is incorrect on this point authentication of requests is not an ugly workaround to a browser security issuepthe browser isnt just doing what its supposed to be doing always a flimsy argument in favor of the status quo i agree but also iall it can doi since only the server has the information needed to judge how sensitive a request ispits true that servers 38 browsers work together to create a semblance of a security model for the web but the bulk of the job belongs to the server there are hundreds of thousands of different applications each with different needs and the servers have a means of enforcing controls flexibly by authenticating requestspthe browser isnt protecting your email the server is the browser isnt protecting your bank account the server is the browser isnt protecting your hn karma the server is the browser isnt protecting your code repository the server is no simple http standard will cover all these cases and so its silly to suggest that http is where this security controlled should be expressed\nthen graham is wrong i appreciate the effort he puts in and that his heart is in the right place but the metrics ive seen from him arent compelling for instance classic compared to just comparing front pages with archiveorg and  particularly  which threads generate the most heatpand sorry but ive been watching conversations like this one for something like 35 years now and this is a real issue\nthe workshops ive done have been free they have not been loweffort i did a crypto for penetration testers workshop on a saturday that sold out the room and involved a team at matasano writing 9 lab servers and 6 hours of scripted lecture i did not at any point before during or after the workshop feel like i had sold outpagain my head is exploding over this exactly what part of getting interested people in a room and italking to themi seems scammy to you and if youre creating value why is it wrong to ask for money for it\nreally youre getting better performance from an svs than an anova my understanding is that for reasonable water baths the anova is pretty close to the performance of the polyscience which is the gold standard when kenji alt tested the anova he found his unit had been miscalibrated maybe check yourspi donated my unopened sansaire to butcher amp larder and the first thing they did with it was set it up in a ihugei water bath to cook a bunch of huge mortadella it took them forever to get the bath up to temp so long that i thought something might have been wrong with the unitpi think the fix was to cover the bath to eliminate evaporative cooling that is also a problem the svs doesnt have being a closed bath but the circulator should be more flexible and from what i understand higher performancepif youre willing to spring for the svs a better rec might be to go for the midrange polyscience the cs\nencryptthensign addresses this problem but its a design change and its not the case that encryptthensign is an industrywide best practice practical cryptography for instance recommends the opposite\nok but as musical genres however seriously you want to take that concept this isnt a distinction i need to care much about\ntry adding some content to your reply axod start by responding to thesep irc runs its own custom protocol which firewalls go out of their way to blockp irc has archaic limits like 7bit clean text and short linesp irc requires custom client softwarep irc cant natively include binary data images or rich contentp irc cant provide transcripts without more archaic software to log in and watch channelsp ircs authentication support is significantly worse than that of the webp ircs authorization features are limited to chankeys and i\nalone among these recommendations this one is indefensible in practice though understandable on paper we see people implementing quotsimplerquot tls alternatives somewhat routinely in our practice and they are virtually always broken a fear of tls  which is reasonable  is an insufficient reason to expose yourself to the risks of a custom crypto protocolpyoull save yourself time and heartache if you just use ssl once every few years someone will find a flaw in tls and once every few times that happens that flaw will be relevant to your application but on those rare occasions youll also have some of the smartest crypto implementors on the planet rushing to come up with the best fix which is something you will never have with a custom protocolpit is worth remembering here that the overwhelming majority of tls security issues are relevant primarily to browsers and rely on the beast exploit model where attackers have extensive and finegrained control over what plaintexts victims generate due to javascriptpif certificate processing code scares you  also reasonable  and youre building a clientx2fserver backend system do what enterprise software does slurp the whole certificate into your code fingerprint it with a hash and verify it in a whitelist your tls implementation will still verify the certificate but you wont care youll rely on your whitelist for security instead\nthis is a great book i wouldnt say its quotheavy readingquot its like the quottcpx2fip illustratedquot of money\nsoftware security we take products that 48 person dev teams spend 918 months building and in 23 weeks with 23 people essentially compete with those teams to find clever vulnerabilities they left in their code particularly on nonweb projects this often involves reverseengineering from binary and quickly tooling up for bizarro undocumented proprietary protocols and apis if youre a startup you hire for rails or lowlevel c database stuff or ios or distributed systems for us switch those ors to ands\nwait so the patch just ignores the case where the csprng isnt initialized\nohanian is reddits chairman\n"
    }
   ],
   "source": [
    "for i in df2['text']:\n",
    "    i = lemmatizer.lemmatize(i)\n",
    "    print(i)"
   ]
  },
  {
   "cell_type": "code",
   "execution_count": 14,
   "metadata": {},
   "outputs": [
    {
     "data": {
      "text/html": "<div>\n<style scoped>\n    .dataframe tbody tr th:only-of-type {\n        vertical-align: middle;\n    }\n\n    .dataframe tbody tr th {\n        vertical-align: top;\n    }\n\n    .dataframe thead th {\n        text-align: right;\n    }\n</style>\n<table border=\"1\" class=\"dataframe\">\n  <thead>\n    <tr style=\"text-align: right;\">\n      <th></th>\n      <th>id</th>\n      <th>by</th>\n      <th>author</th>\n      <th>time_ts</th>\n      <th>text</th>\n      <th>parent</th>\n      <th>ranking</th>\n      <th>score</th>\n    </tr>\n  </thead>\n  <tbody>\n    <tr>\n      <td>0</td>\n      <td>2701393</td>\n      <td>5l</td>\n      <td>5l</td>\n      <td>2011-06-27 14:28:01+00:00</td>\n      <td>and the glazier who fixed all the broken windo...</td>\n      <td>2701243</td>\n      <td>0</td>\n      <td>-0.0616</td>\n    </tr>\n    <tr>\n      <td>1</td>\n      <td>5811403</td>\n      <td>99</td>\n      <td>99</td>\n      <td>2013-06-03 04:34:08+00:00</td>\n      <td>does canada have the equivalent of h1bgreen ca...</td>\n      <td>5804452</td>\n      <td>0</td>\n      <td>0.0000</td>\n    </tr>\n    <tr>\n      <td>2</td>\n      <td>21623</td>\n      <td>AF</td>\n      <td>AF</td>\n      <td>2007-05-12 17:53:20+00:00</td>\n      <td>speaking of rails there are other options in t...</td>\n      <td>21611</td>\n      <td>0</td>\n      <td>0.5205</td>\n    </tr>\n    <tr>\n      <td>3</td>\n      <td>10159727</td>\n      <td>EA</td>\n      <td>EA</td>\n      <td>2015-09-02 15:09:34+00:00</td>\n      <td>humans and large livestock and maybe even pets...</td>\n      <td>10159396</td>\n      <td>0</td>\n      <td>1.0102</td>\n    </tr>\n    <tr>\n      <td>4</td>\n      <td>2988424</td>\n      <td>Iv</td>\n      <td>Iv</td>\n      <td>2011-09-12 18:53:00+00:00</td>\n      <td>i must say i reacted in the same way when i re...</td>\n      <td>2988179</td>\n      <td>0</td>\n      <td>0.0000</td>\n    </tr>\n  </tbody>\n</table>\n</div>",
      "text/plain": "         id  by author                   time_ts  \\\n0   2701393  5l     5l 2011-06-27 14:28:01+00:00   \n1   5811403  99     99 2013-06-03 04:34:08+00:00   \n2     21623  AF     AF 2007-05-12 17:53:20+00:00   \n3  10159727  EA     EA 2015-09-02 15:09:34+00:00   \n4   2988424  Iv     Iv 2011-09-12 18:53:00+00:00   \n\n                                                text    parent  ranking  \\\n0  and the glazier who fixed all the broken windo...   2701243        0   \n1  does canada have the equivalent of h1bgreen ca...   5804452        0   \n2  speaking of rails there are other options in t...     21611        0   \n3  humans and large livestock and maybe even pets...  10159396        0   \n4  i must say i reacted in the same way when i re...   2988179        0   \n\n    score  \n0 -0.0616  \n1  0.0000  \n2  0.5205  \n3  1.0102  \n4  0.0000  "
     },
     "execution_count": 14,
     "metadata": {},
     "output_type": "execute_result"
    }
   ],
   "source": [
    "df2.head()"
   ]
  },
  {
   "cell_type": "code",
   "execution_count": 15,
   "metadata": {},
   "outputs": [
    {
     "name": "stderr",
     "output_type": "stream",
     "text": "[nltk_data] Downloading package vader_lexicon to\n[nltk_data]     C:\\Users\\charl\\AppData\\Roaming\\nltk_data...\n[nltk_data]   Package vader_lexicon is already up-to-date!\n"
    }
   ],
   "source": [
    "import nltk\n",
    "nltk.download('vader_lexicon')\n",
    "from nltk.sentiment.vader import SentimentIntensityAnalyzer\n",
    "sid = SentimentIntensityAnalyzer()\n",
    "#sid.polarity_scores(sentence)"
   ]
  },
  {
   "cell_type": "code",
   "execution_count": 16,
   "metadata": {},
   "outputs": [
    {
     "data": {
      "text/plain": "8, 'neu': 0.738, 'pos': 0.174, 'compound': 0.5994},\n {'neg': 0.0, 'neu': 1.0, 'pos': 0.0, 'compound': 0.0},\n {'neg': 0.02, 'neu': 0.88, 'pos': 0.1, 'compound': 0.7304},\n {'neg': 0.052, 'neu': 0.753, 'pos': 0.194, 'compound': 0.8047},\n {'neg': 0.016, 'neu': 0.858, 'pos': 0.125, 'compound': 0.8242},\n {'neg': 0.0, 'neu': 1.0, 'pos': 0.0, 'compound': 0.0},\n {'neg': 0.012, 'neu': 0.916, 'pos': 0.072, 'compound': 0.6827},\n {'neg': 0.032, 'neu': 0.93, 'pos': 0.038, 'compound': 0.1002},\n {'neg': 0.102, 'neu': 0.834, 'pos': 0.064, 'compound': -0.7409},\n {'neg': 0.0, 'neu': 0.444, 'pos': 0.556, 'compound': 0.3612},\n {'neg': 0.787, 'neu': 0.213, 'pos': 0.0, 'compound': -0.8126},\n {'neg': 0.0, 'neu': 0.0, 'pos': 1.0, 'compound': 0.4588},\n {'neg': 0.0, 'neu': 0.707, 'pos': 0.293, 'compound': 0.4404},\n {'neg': 0.123, 'neu': 0.722, 'pos': 0.155, 'compound': 0.3704},\n {'neg': 0.034, 'neu': 0.849, 'pos': 0.117, 'compound': 0.8847},\n {'neg': 0.239, 'neu': 0.513, 'pos': 0.248, 'compound': 0.0258},\n {'neg': 0.0, 'neu': 0.779, 'pos': 0.221, 'compound': 0.7958},\n {'neg': 0.0, 'neu': 1.0, 'pos': 0.0, 'compound': 0.0},\n {'neg': 0.0, 'neu': 0.639, 'pos': 0.361, 'compound': 0.5464},\n {'neg': 0.138, 'neu': 0.85, 'pos': 0.012, 'compound': -0.9028},\n {'neg': 0.205, 'neu': 0.595, 'pos': 0.2, 'compound': -0.2732},\n {'neg': 0.144, 'neu': 0.72, 'pos': 0.136, 'compound': -0.1556},\n {'neg': 0.0, 'neu': 1.0, 'pos': 0.0, 'compound': 0.0},\n {'neg': 0.0, 'neu': 0.847, 'pos': 0.153, 'compound': 0.2023},\n {'neg': 0.0, 'neu': 0.692, 'pos': 0.308, 'compound': 0.9571},\n {'neg': 0.065, 'neu': 0.676, 'pos': 0.259, 'compound': 0.7351},\n {'neg': 0.017, 'neu': 0.881, 'pos': 0.103, 'compound': 0.9682},\n {'neg': 0.0, 'neu': 1.0, 'pos': 0.0, 'compound': 0.0},\n {'neg': 0.164, 'neu': 0.836, 'pos': 0.0, 'compound': -0.7096},\n {'neg': 0.0, 'neu': 1.0, 'pos': 0.0, 'compound': 0.0},\n {'neg': 0.116, 'neu': 0.474, 'pos': 0.411, 'compound': 0.6808},\n {'neg': 0.0, 'neu': 0.772, 'pos': 0.228, 'compound': 0.6808},\n {'neg': 0.107, 'neu': 0.609, 'pos': 0.284, 'compound': 0.5413},\n {'neg': 0.072, 'neu': 0.774, 'pos': 0.155, 'compound': 0.4391},\n {'neg': 0.174, 'neu': 0.698, 'pos': 0.128, 'compound': -0.2023},\n {'neg': 0.0, 'neu': 0.9, 'pos': 0.1, 'compound': 0.886},\n {'neg': 0.195, 'neu': 0.417, 'pos': 0.388, 'compound': 0.3384},\n {'neg': 0.063, 'neu': 0.937, 'pos': 0.0, 'compound': -0.1232},\n {'neg': 0.0, 'neu': 0.823, 'pos': 0.177, 'compound': 0.631},\n {'neg': 0.0, 'neu': 1.0, 'pos': 0.0, 'compound': 0.0},\n {'neg': 0.0, 'neu': 0.706, 'pos': 0.294, 'compound': 0.3612},\n {'neg': 0.116, 'neu': 0.8, 'pos': 0.084, 'compound': -0.6876},\n {'neg': 0.053, 'neu': 0.85, 'pos': 0.097, 'compound': 0.3431},\n {'neg': 0.125, 'neu': 0.671, 'pos': 0.203, 'compound': 0.7192},\n {'neg': 0.073, 'neu': 0.927, 'pos': 0.0, 'compound': -0.2023},\n {'neg': 0.127, 'neu': 0.796, 'pos': 0.076, 'compound': -0.9744},\n {'neg': 0.0, 'neu': 0.81, 'pos': 0.19, 'compound': 0.6761},\n {'neg': 0.103, 'neu': 0.803, 'pos': 0.094, 'compound': -0.2037},\n {'neg': 0.137, 'neu': 0.863, 'pos': 0.0, 'compound': -0.6249},\n {'neg': 0.0, 'neu': 0.851, 'pos': 0.149, 'compound': 0.9217},\n {'neg': 0.196, 'neu': 0.567, 'pos': 0.238, 'compound': 0.4142},\n {'neg': 0.0, 'neu': 0.922, 'pos': 0.078, 'compound': 0.3919},\n {'neg': 0.0, 'neu': 0.839, 'pos': 0.161, 'compound': 0.3499},\n {'neg': 0.095, 'neu': 0.905, 'pos': 0.0, 'compound': -0.296},\n {'neg': 0.031, 'neu': 0.921, 'pos': 0.048, 'compound': 0.6349},\n {'neg': 0.01, 'neu': 0.902, 'pos': 0.088, 'compound': 0.954},\n {'neg': 0.069, 'neu': 0.835, 'pos': 0.096, 'compound': 0.8499},\n {'neg': 0.117, 'neu': 0.604, 'pos': 0.279, 'compound': 0.5859},\n {'neg': 0.0, 'neu': 0.725, 'pos': 0.275, 'compound': 0.5859},\n {'neg': 0.0, 'neu': 0.905, 'pos': 0.095, 'compound': 0.8692},\n {'neg': 0.066, 'neu': 0.84, 'pos': 0.094, 'compound': 0.3071},\n {'neg': 0.0, 'neu': 1.0, 'pos': 0.0, 'compound': 0.0},\n {'neg': 0.0, 'neu': 0.895, 'pos': 0.105, 'compound': 0.3291},\n {'neg': 0.0, 'neu': 0.833, 'pos': 0.167, 'compound': 0.6369},\n {'neg': 0.07, 'neu': 0.862, 'pos': 0.068, 'compound': -0.6773},\n {'neg': 0.057, 'neu': 0.778, 'pos': 0.164, 'compound': 0.5689},\n {'neg': 0.0, 'neu': 0.786, 'pos': 0.214, 'compound': 0.9643},\n {'neg': 0.018, 'neu': 0.853, 'pos': 0.129, 'compound': 0.947},\n {'neg': 0.048, 'neu': 0.826, 'pos': 0.126, 'compound': 0.5799},\n {'neg': 0.0, 'neu': 0.896, 'pos': 0.104, 'compound': 0.4404},\n {'neg': 0.207, 'neu': 0.73, 'pos': 0.062, 'compound': -0.9803},\n {'neg': 0.095, 'neu': 0.793, 'pos': 0.112, 'compound': 0.5167},\n {'neg': 0.811, 'neu': 0.189, 'pos': 0.0, 'compound': -0.6486},\n {'neg': 0.031, 'neu': 0.872, 'pos': 0.097, 'compound': 0.6904},\n {'neg': 0.079, 'neu': 0.766, 'pos': 0.155, 'compound': 0.8204},\n {'neg': 0.0, 'neu': 1.0, 'pos': 0.0, 'compound': 0.0},\n {'neg': 0.025, 'neu': 0.855, 'pos': 0.12, 'compound': 0.8954},\n {'neg': 0.082, 'neu': 0.842, 'pos': 0.076, 'compound': -0.3453},\n {'neg': 0.0, 'neu': 0.887, 'pos': 0.113, 'compound': 0.4939},\n {'neg': 0.077, 'neu': 0.725, 'pos': 0.198, 'compound': 0.5423},\n {'neg': 0.04, 'neu': 0.853, 'pos': 0.107, 'compound': 0.8944},\n {'neg': 0.0, 'neu': 0.947, 'pos': 0.053, 'compound': 0.611},\n {'neg': 0.0, 'neu': 1.0, 'pos': 0.0, 'compound': 0.0},\n {'neg': 0.304, 'neu': 0.585, 'pos': 0.111, 'compound': -0.6075},\n {'neg': 0.02, 'neu': 0.855, 'pos': 0.125, 'compound': 0.8513},\n {'neg': 0.05, 'neu': 0.723, 'pos': 0.226, 'compound': 0.9848},\n {'neg': 0.046, 'neu': 0.874, 'pos': 0.08, 'compound': 0.5638},\n {'neg': 0.072, 'neu': 0.906, 'pos': 0.022, 'compound': -0.4939},\n {'neg': 0.0, 'neu': 0.916, 'pos': 0.084, 'compound': 0.8885},\n {'neg': 0.119, 'neu': 0.762, 'pos': 0.119, 'compound': -0.4676},\n {'neg': 0.124, 'neu': 0.876, 'pos': 0.0, 'compound': -0.5267},\n {'neg': 0.099, 'neu': 0.82, 'pos': 0.081, 'compound': -0.5336},\n {'neg': 0.044, 'neu': 0.956, 'pos': 0.0, 'compound': -0.1531},\n {'neg': 0.2, 'neu': 0.8, 'pos': 0.0, 'compound': -0.3612},\n {'neg': 0.0, 'neu': 0.597, 'pos': 0.403, 'compound': 0.6597},\n {'neg': 0.075, 'neu': 0.789, 'pos': 0.136, 'compound': 0.4424},\n {'neg': 0.149, 'neu': 0.775, 'pos': 0.076, 'compound': -0.3672},\n {'neg': 0.0, 'neu': 0.851, 'pos': 0.149, 'compound': 0.2732},\n {'neg': 0.0, 'neu': 1.0, 'pos': 0.0, 'compound': 0.0},\n {'neg': 0.0, 'neu': 0.917, 'pos': 0.083, 'compound': 0.8442},\n {'neg': 0.03, 'neu': 0.91, 'pos': 0.06, 'compound': 0.431},\n {'neg': 0.045, 'neu': 0.896, 'pos': 0.059, 'compound': 0.1779},\n {'neg': 0.068, 'neu': 0.746, 'pos': 0.186, 'compound': 0.5267},\n {'neg': 0.091, 'neu': 0.826, 'pos': 0.083, 'compound': 0.0504},\n {'neg': 0.098, 'neu': 0.702, 'pos': 0.2, 'compound': 0.6705},\n {'neg': 0.341, 'neu': 0.659, 'pos': 0.0, 'compound': -0.3804},\n {'neg': 0.086, 'neu': 0.8, 'pos': 0.114, 'compound': 0.2732},\n {'neg': 0.034, 'neu': 0.778, 'pos': 0.188, 'compound': 0.872},\n {'neg': 0.031, 'neu': 0.939, 'pos': 0.03, 'compound': -0.0165},\n {'neg': 0.0, 'neu': 1.0, 'pos': 0.0, 'compound': 0.0},\n {'neg': 0.041, 'neu': 0.84, 'pos': 0.119, 'compound': 0.4404},\n {'neg': 0.229, 'neu': 0.741, 'pos': 0.03, 'compound': -0.9701},\n {'neg': 0.093, 'neu': 0.799, 'pos': 0.108, 'compound': 0.5549},\n {'neg': 0.0, 'neu': 1.0, 'pos': 0.0, 'compound': 0.0},\n {'neg': 0.157, 'neu': 0.783, 'pos': 0.06, 'compound': -0.8831},\n {'neg': 0.101, 'neu': 0.793, 'pos': 0.106, 'compound': -0.1687},\n {'neg': 0.07, 'neu': 0.872, 'pos': 0.058, 'compound': -0.1969},\n {'neg': 0.1, 'neu': 0.802, 'pos': 0.099, 'compound': 0.2263},\n {'neg': 0.169, 'neu': 0.613, 'pos': 0.218, 'compound': 0.3182},\n {'neg': 0.116, 'neu': 0.785, 'pos': 0.099, 'compound': 0.0258},\n {'neg': 0.0, 'neu': 1.0, 'pos': 0.0, 'compound': 0.0},\n {'neg': 0.038, 'neu': 0.95, 'pos': 0.012, 'compound': -0.5098},\n {'neg': 0.0, 'neu': 1.0, 'pos': 0.0, 'compound': 0.0},\n {'neg': 0.0, 'neu': 1.0, 'pos': 0.0, 'compound': 0.0},\n {'neg': 0.0, 'neu': 0.86, 'pos': 0.14, 'compound': 0.5267},\n {'neg': 0.0, 'neu': 0.938, 'pos': 0.062, 'compound': 0.2732},\n {'neg': 0.056, 'neu': 0.75, 'pos': 0.194, 'compound': 0.9118},\n {'neg': 0.138, 'neu': 0.812, 'pos': 0.049, 'compound': -0.9135},\n {'neg': 0.0, 'neu': 1.0, 'pos': 0.0, 'compound': 0.0},\n {'neg': 0.085, 'neu': 0.794, 'pos': 0.122, 'compound': 0.2822},\n {'neg': 0.081, 'neu': 0.785, 'pos': 0.134, 'compound': 0.2612},\n {'neg': 0.0, 'neu': 1.0, 'pos': 0.0, 'compound': 0.0},\n {'neg': 0.094, 'neu': 0.697, 'pos': 0.209, 'compound': 0.7501},\n {'neg': 0.0, 'neu': 1.0, 'pos': 0.0, 'compound': 0.0},\n {'neg': 0.164, 'neu': 0.836, 'pos': 0.0, 'compound': -0.1877},\n {'neg': 0.237, 'neu': 0.763, 'pos': 0.0, 'compound': -0.4767},\n {'neg': 0.051, 'neu': 0.866, 'pos': 0.083, 'compound': 0.5675},\n {'neg': 0.173, 'neu': 0.691, 'pos': 0.136, 'compound': -0.4767},\n {'neg': 0.136, 'neu': 0.836, 'pos': 0.029, 'compound': -0.6296},\n {'neg': 0.35, 'neu': 0.65, 'pos': 0.0, 'compound': -0.8461},\n {'neg': 0.098, 'neu': 0.902, 'pos': 0.0, 'compound': -0.8126},\n {'neg': 0.065, 'neu': 0.832, 'pos': 0.103, 'compound': 0.711},\n {'neg': 0.04, 'neu': 0.925, 'pos': 0.035, 'compound': -0.1154},\n {'neg': 0.0, 'neu': 1.0, 'pos': 0.0, 'compound': 0.0},\n {'neg': 0.0, 'neu': 1.0, 'pos': 0.0, 'compound': 0.0},\n {'neg': 0.137, 'neu': 0.762, 'pos': 0.1, 'compound': -0.805},\n {'neg': 0.167, 'neu': 0.743, 'pos': 0.09, 'compound': -0.3197},\n {'neg': 0.06, 'neu': 0.914, 'pos': 0.026, 'compound': -0.3773},\n {'neg': 0.049, 'neu': 0.951, 'pos': 0.0, 'compound': -0.4588},\n {'neg': 0.147, 'neu': 0.853, 'pos': 0.0, 'compound': -0.3506},\n {'neg': 0.0, 'neu': 1.0, 'pos': 0.0, 'compound': 0.0},\n {'neg': 0.086, 'neu': 0.903, 'pos': 0.011, 'compound': -0.7273},\n {'neg': 0.041, 'neu': 0.733, 'pos': 0.226, 'compound': 0.8914},\n {'neg': 0.0, 'neu': 0.847, 'pos': 0.153, 'compound': 0.4404},\n {'neg': 0.278, 'neu': 0.722, 'pos': 0.0, 'compound': -0.6597},\n {'neg': 0.0, 'neu': 0.828, 'pos': 0.172, 'compound': 0.6124},\n {'neg': 0.03, 'neu': 0.938, 'pos': 0.032, 'compound': 0.0191},\n {'neg': 0.0, 'neu': 0.925, 'pos': 0.075, 'compound': 0.3612},\n {'neg': 0.0, 'neu': 0.883, 'pos': 0.117, 'compound': 0.4927},\n {'neg': 0.0, 'neu': 1.0, 'pos': 0.0, 'compound': 0.0},\n {'neg': 0.071, 'neu': 0.797, 'pos': 0.132, 'compound': 0.9298},\n {'neg': 0.0, 'neu': 1.0, 'pos': 0.0, 'compound': 0.0},\n {'neg': 0.048, 'neu': 0.91, 'pos': 0.043, 'compound': -0.1154},\n {'neg': 0.0, 'neu': 0.937, 'pos': 0.063, 'compound': 0.6903},\n {'neg': 0.042, 'neu': 0.958, 'pos': 0.0, 'compound': -0.296},\n {'neg': 0.033, 'neu': 0.716, 'pos': 0.252, 'compound': 0.9018},\n {'neg': 0.057, 'neu': 0.829, 'pos': 0.114, 'compound': 0.6341},\n {'neg': 0.018, 'neu': 0.921, 'pos': 0.061, 'compound': 0.6497},\n {'neg': 0.0, 'neu': 0.947, 'pos': 0.053, 'compound': 0.4939},\n {'neg': 0.076, 'neu': 0.773, 'pos': 0.151, 'compound': 0.9349},\n {'neg': 0.122, 'neu': 0.765, 'pos': 0.112, 'compound': -0.0516},\n {'neg': 0.0, 'neu': 1.0, 'pos': 0.0, 'compound': 0.0},\n {'neg': 0.0, 'neu': 0.756, 'pos': 0.244, 'compound': 0.4404},\n {'neg': 0.0, 'neu': 0.581, 'pos': 0.419, 'compound': 0.7579},\n {'neg': 0.0, 'neu': 0.865, 'pos': 0.135, 'compound': 0.3612},\n {'neg': 0.0, 'neu': 0.959, 'pos': 0.041, 'compound': 0.0258},\n {'neg': 0.0, 'neu': 0.839, 'pos': 0.161, 'compound': 0.3612},\n {'neg': 0.099, 'neu': 0.74, 'pos': 0.162, 'compound': 0.7842},\n {'neg': 0.042, 'neu': 0.907, 'pos': 0.052, 'compound': -0.1235},\n {'neg': 0.156, 'neu': 0.76, 'pos': 0.084, 'compound': -0.6899},\n {'neg': 0.0, 'neu': 0.924, 'pos': 0.076, 'compound': 0.5574},\n {'neg': 0.0, 'neu': 1.0, 'pos': 0.0, 'compound': 0.0},\n {'neg': 0.144, 'neu': 0.738, 'pos': 0.118, 'compound': -0.2134},\n {'neg': 0.055, 'neu': 0.82, 'pos': 0.125, 'compound': 0.6767},\n {'neg': 0.17, 'neu': 0.707, 'pos': 0.123, 'compound': -0.2799},\n {'neg': 0.173, 'neu': 0.775, 'pos': 0.053, 'compound': -0.926},\n {'neg': 0.094, 'neu': 0.906, 'pos': 0.0, 'compound': -0.3832},\n {'neg': 0.108, 'neu': 0.781, 'pos': 0.112, 'compound': -0.1591},\n {'neg': 0.036, 'neu': 0.853, 'pos': 0.111, 'compound': 0.6644},\n {'neg': 0.033, 'neu': 0.834, 'pos': 0.133, 'compound': 0.8591},\n {'neg': 0.062, 'neu': 0.877, 'pos': 0.061, 'compound': 0.4322},\n {'neg': 0.151, 'neu': 0.849, 'pos': 0.0, 'compound': -0.2411},\n {'neg': 0.0, 'neu': 1.0, 'pos': 0.0, 'compound': 0.0},\n {'neg': 0.0, 'neu': 0.945, 'pos': 0.055, 'compound': 0.5423},\n {'neg': 0.0, 'neu': 1.0, 'pos': 0.0, 'compound': 0.0},\n {'neg': 0.0, 'neu': 0.933, 'pos': 0.067, 'compound': 0.4678},\n {'neg': 0.023, 'neu': 0.832, 'pos': 0.145, 'compound': 0.7469},\n {'neg': 0.0, 'neu': 1.0, 'pos': 0.0, 'compound': 0.0},\n {'neg': 0.0, 'neu': 1.0, 'pos': 0.0, 'compound': 0.0},\n {'neg': 0.0, 'neu': 0.754, 'pos': 0.246, 'compound': 0.7579},\n {'neg': 0.0, 'neu': 1.0, 'pos': 0.0, 'compound': 0.0},\n {'neg': 0.0, 'neu': 0.871, 'pos': 0.129, 'compound': 0.9201},\n {'neg': 0.051, 'neu': 0.815, 'pos': 0.135, 'compound': 0.7246},\n {'neg': 0.0, 'neu': 1.0, 'pos': 0.0, 'compound': 0.0},\n {'neg': 0.038, 'neu': 0.91, 'pos': 0.052, 'compound': 0.196},\n {'neg': 0.0, 'neu': 0.8, 'pos': 0.2, 'compound': 0.128},\n {'neg': 0.0, 'neu': 1.0, 'pos': 0.0, 'compound': 0.0},\n {'neg': 0.196, 'neu': 0.604, 'pos': 0.2, 'compound': 0.296},\n {'neg': 0.0, 'neu': 0.683, 'pos': 0.317, 'compound': 0.9171},\n {'neg': 0.021, 'neu': 0.818, 'pos': 0.161, 'compound': 0.9671},\n {'neg': 0.0, 'neu': 1.0, 'pos': 0.0, 'compound': 0.0},\n {'neg': 0.0, 'neu': 0.874, 'pos': 0.126, 'compound': 0.0772},\n {'neg': 0.047, 'neu': 0.73, 'pos': 0.222, 'compound': 0.6951},\n {'neg': 0.0, 'neu': 1.0, 'pos': 0.0, 'compound': 0.0},\n {'neg': 0.0, 'neu': 0.749, 'pos': 0.251, 'compound': 0.9609},\n {'neg': 0.101, 'neu': 0.779, 'pos': 0.12, 'compound': 0.8876},\n {'neg': 0.164, 'neu': 0.777, 'pos': 0.059, 'compound': -0.9349},\n {'neg': 0.067, 'neu': 0.847, 'pos': 0.086, 'compound': 0.2732},\n {'neg': 0.096, 'neu': 0.718, 'pos': 0.186, 'compound': 0.9399},\n {'neg': 0.0, 'neu': 0.734, 'pos': 0.266, 'compound': 0.4404},\n {'neg': 0.078, 'neu': 0.731, 'pos': 0.192, 'compound': 0.9223},\n {'neg': 0.03, 'neu': 0.722, 'pos': 0.248, 'compound': 0.9584},\n {'neg': 0.0, 'neu': 0.79, 'pos': 0.21, 'compound': 0.6503},\n {'neg': 0.089, 'neu': 0.744, 'pos': 0.166, 'compound': 0.7711},\n {'neg': 0.0, 'neu': 0.777, 'pos': 0.223, 'compound': 0.3182},\n {'neg': 0.051, 'neu': 0.868, 'pos': 0.081, 'compound': 0.3883},\n {'neg': 0.0, 'neu': 0.878, 'pos': 0.122, 'compound': 0.874},\n {'neg': 0.064, 'neu': 0.804, 'pos': 0.132, 'compound': 0.9344},\n {'neg': 0.0, 'neu': 1.0, 'pos': 0.0, 'compound': 0.0},\n {'neg': 0.069, 'neu': 0.675, 'pos': 0.256, 'compound': 0.9287},\n {'neg': 0.113, 'neu': 0.741, 'pos': 0.146, 'compound': 0.4215},\n {'neg': 0.072, 'neu': 0.802, 'pos': 0.127, 'compound': 0.5495},\n {'neg': 0.035, 'neu': 0.744, 'pos': 0.22, 'compound': 0.9688},\n {'neg': 0.041, 'neu': 0.878, 'pos': 0.082, 'compound': 0.1739},\n {'neg': 0.08, 'neu': 0.769, 'pos': 0.151, 'compound': 0.4023},\n {'neg': 0.105, 'neu': 0.809, 'pos': 0.086, 'compound': -0.3182},\n {'neg': 0.21, 'neu': 0.558, 'pos': 0.232, 'compound': 0.0624},\n {'neg': 0.039, 'neu': 0.864, 'pos': 0.096, 'compound': 0.9325},\n {'neg': 0.105, 'neu': 0.739, 'pos': 0.156, 'compound': 0.7118},\n {'neg': 0.042, 'neu': 0.867, 'pos': 0.091, 'compound': 0.3421},\n {'neg': 0.0, 'neu': 1.0, 'pos': 0.0, 'compound': 0.0},\n {'neg': 0.092, 'neu': 0.809, 'pos': 0.1, 'compound': 0.547},\n {'neg': 0.144, 'neu': 0.738, 'pos': 0.119, 'compound': -0.0129},\n {'neg': 0.096, 'neu': 0.867, 'pos': 0.037, 'compound': -0.8377},\n {'neg': 0.103, 'neu': 0.783, 'pos': 0.113, 'compound': 0.2309},\n {'neg': 0.086, 'neu': 0.715, 'pos': 0.199, 'compound': 0.8691},\n {'neg': 0.124, 'neu': 0.692, 'pos': 0.183, 'compound': 0.3182},\n {'neg': 0.142, 'neu': 0.729, 'pos': 0.129, 'compound': -0.3593},\n {'neg': 0.044, 'neu': 0.851, 'pos': 0.104, 'compound': 0.8374},\n {'neg': 0.135, 'neu': 0.792, 'pos': 0.073, 'compound': -0.2732},\n {'neg': 0.076, 'neu': 0.858, 'pos': 0.066, 'compound': -0.4852},\n {'neg': 0.034, 'neu': 0.861, 'pos': 0.105, 'compound': 0.3765},\n {'neg': 0.13, 'neu': 0.87, 'pos': 0.0, 'compound': -0.2732},\n {'neg': 0.0, 'neu': 1.0, 'pos': 0.0, 'compound': 0.0},\n {'neg': 0.063, 'neu': 0.858, 'pos': 0.079, 'compound': 0.4143},\n {'neg': 0.155, 'neu': 0.725, 'pos': 0.12, 'compound': -0.3384},\n {'neg': 0.129, 'neu': 0.798, 'pos': 0.073, 'compound': -0.5794},\n {'neg': 0.082, 'neu': 0.839, 'pos': 0.078, 'compound': -0.024},\n {'neg': 0.0, 'neu': 0.977, 'pos': 0.023, 'compound': 0.1531},\n {'neg': 0.0, 'neu': 1.0, 'pos': 0.0, 'compound': 0.0},\n {'neg': 0.072, 'neu': 0.788, 'pos': 0.14, 'compound': 0.5749},\n {'neg': 0.0, 'neu': 1.0, 'pos': 0.0, 'compound': 0.0},\n {'neg': 0.053, 'neu': 0.859, 'pos': 0.089, 'compound': 0.3265},\n {'neg': 0.193, 'neu': 0.742, 'pos': 0.065, 'compound': -0.7579},\n {'neg': 0.0, 'neu': 0.915, 'pos': 0.085, 'compound': 0.3612},\n {'neg': 0.0, 'neu': 1.0, 'pos': 0.0, 'compound': 0.0},\n {'neg': 0.0, 'neu': 0.886, 'pos': 0.114, 'compound': 0.2023},\n {'neg': 0.0, 'neu': 0.73, 'pos': 0.27, 'compound': 0.8126},\n {'neg': 0.0, 'neu': 1.0, 'pos': 0.0, 'compound': 0.0},\n {'neg': 0.143, 'neu': 0.857, 'pos': 0.0, 'compound': -0.3612},\n {'neg': 0.0, 'neu': 0.659, 'pos': 0.341, 'compound': 0.886},\n {'neg': 0.03, 'neu': 0.836, 'pos': 0.134, 'compound': 0.8761},\n {'neg': 0.107, 'neu': 0.769, 'pos': 0.123, 'compound': -0.2263},\n {'neg': 0.066, 'neu': 0.861, 'pos': 0.073, 'compound': -0.103},\n {'neg': 0.098, 'neu': 0.791, 'pos': 0.111, 'compound': 0.1531},\n {'neg': 0.014, 'neu': 0.759, 'pos': 0.227, 'compound': 0.9559},\n {'neg': 0.22, 'neu': 0.7, 'pos': 0.081, 'compound': -0.8369},\n {'neg': 0.325, 'neu': 0.675, 'pos': 0.0, 'compound': -0.5927},\n {'neg': 0.0, 'neu': 0.687, 'pos': 0.313, 'compound': 0.4767},\n {'neg': 0.0, 'neu': 0.908, 'pos': 0.092, 'compound': 0.5187},\n {'neg': 0.08, 'neu': 0.85, 'pos': 0.07, 'compound': -0.2023},\n {'neg': 0.0, 'neu': 0.877, 'pos': 0.123, 'compound': 0.8047},\n {'neg': 0.045, 'neu': 0.82, 'pos': 0.135, 'compound': 0.8481},\n {'neg': 0.055, 'neu': 0.822, 'pos': 0.122, 'compound': 0.7769},\n {'neg': 0.086, 'neu': 0.863, 'pos': 0.051, 'compound': -0.34},\n {'neg': 0.08, 'neu': 0.886, 'pos': 0.034, 'compound': -0.7003},\n {'neg': 0.019, 'neu': 0.744, 'pos': 0.236, 'compound': 0.9524},\n {'neg': 0.0, 'neu': 1.0, 'pos': 0.0, 'compound': 0.0},\n {'neg': 0.0, 'neu': 0.901, 'pos': 0.099, 'compound': 0.5256},\n {'neg': 0.03, 'neu': 0.723, 'pos': 0.246, 'compound': 0.9947},\n {'neg': 0.075, 'neu': 0.886, 'pos': 0.039, 'compound': -0.5267},\n {'neg': 0.115, 'neu': 0.804, 'pos': 0.081, 'compound': -0.7872},\n {'neg': 0.0, 'neu': 0.747, 'pos': 0.253, 'compound': 0.7264},\n {'neg': 0.0, 'neu': 0.421, 'pos': 0.579, 'compound': 0.886},\n {'neg': 0.058, 'neu': 0.882, 'pos': 0.059, 'compound': -0.234},\n {'neg': 0.087, 'neu': 0.709, 'pos': 0.205, 'compound': 0.4588},\n {'neg': 0.042, 'neu': 0.958, 'pos': 0.0, 'compound': -0.1232},\n {'neg': 0.0, 'neu': 0.687, 'pos': 0.313, 'compound': 0.9119},\n {'neg': 0.04, 'neu': 0.891, 'pos': 0.069, 'compound': 0.1764},\n {'neg': 0.0, 'neu': 0.739, 'pos': 0.261, 'compound': 0.5574},\n {'neg': 0.0, 'neu': 0.921, 'pos': 0.079, 'compound': 0.6414},\n {'neg': 0.109, 'neu': 0.891, 'pos': 0.0, 'compound': -0.296},\n {'neg': 0.0, 'neu': 0.817, 'pos': 0.183, 'compound': 0.8225},\n {'neg': 0.127, 'neu': 0.824, 'pos': 0.049, 'compound': -0.6933},\n {'neg': 0.224, 'neu': 0.776, 'pos': 0.0, 'compound': -0.6697},\n {'neg': 0.0, 'neu': 0.758, 'pos': 0.242, 'compound': 0.5859},\n {'neg': 0.15, 'neu': 0.85, 'pos': 0.0, 'compound': -0.7104},\n {'neg': 0.0, 'neu': 0.945, 'pos': 0.055, 'compound': 0.3612},\n {'neg': 0.0, 'neu': 1.0, 'pos': 0.0, 'compound': 0.0},\n {'neg': 0.064, 'neu': 0.872, 'pos': 0.065, 'compound': 0.1702},\n {'neg': 0.093, 'neu': 0.907, 'pos': 0.0, 'compound': -0.5719},\n {'neg': 0.0, 'neu': 0.947, 'pos': 0.053, 'compound': 0.4576},\n {'neg': 0.0, 'neu': 1.0, 'pos': 0.0, 'compound': 0.0},\n {'neg': 0.0, 'neu': 0.922, 'pos': 0.078, 'compound': 0.3535},\n {'neg': 0.0, 'neu': 0.97, 'pos': 0.03, 'compound': 0.2023},\n {'neg': 0.0, 'neu': 0.757, 'pos': 0.243, 'compound': 0.9538},\n {'neg': 0.0, 'neu': 1.0, 'pos': 0.0, 'compound': 0.0},\n {'neg': 0.102, 'neu': 0.735, 'pos': 0.163, 'compound': 0.1911},\n ...]"
     },
     "execution_count": 16,
     "metadata": {},
     "output_type": "execute_result"
    }
   ],
   "source": [
    "scores = []\n",
    "for i in df2[\"text\"]:\n",
    "  score = sid.polarity_scores(i)\n",
    "  scores.append(score)\n",
    "scores"
   ]
  },
  {
   "cell_type": "code",
   "execution_count": 17,
   "metadata": {},
   "outputs": [
    {
     "data": {
      "text/html": "<div>\n<style scoped>\n    .dataframe tbody tr th:only-of-type {\n        vertical-align: middle;\n    }\n\n    .dataframe tbody tr th {\n        vertical-align: top;\n    }\n\n    .dataframe thead th {\n        text-align: right;\n    }\n</style>\n<table border=\"1\" class=\"dataframe\">\n  <thead>\n    <tr style=\"text-align: right;\">\n      <th></th>\n      <th>neg</th>\n      <th>neu</th>\n      <th>pos</th>\n      <th>compound</th>\n    </tr>\n  </thead>\n  <tbody>\n    <tr>\n      <td>0</td>\n      <td>0.155</td>\n      <td>0.700</td>\n      <td>0.145</td>\n      <td>-0.0516</td>\n    </tr>\n    <tr>\n      <td>1</td>\n      <td>0.000</td>\n      <td>1.000</td>\n      <td>0.000</td>\n      <td>0.0000</td>\n    </tr>\n    <tr>\n      <td>2</td>\n      <td>0.048</td>\n      <td>0.868</td>\n      <td>0.084</td>\n      <td>0.6243</td>\n    </tr>\n    <tr>\n      <td>3</td>\n      <td>0.000</td>\n      <td>0.830</td>\n      <td>0.170</td>\n      <td>0.8402</td>\n    </tr>\n    <tr>\n      <td>4</td>\n      <td>0.000</td>\n      <td>1.000</td>\n      <td>0.000</td>\n      <td>0.0000</td>\n    </tr>\n  </tbody>\n</table>\n</div>",
      "text/plain": "     neg    neu    pos  compound\n0  0.155  0.700  0.145   -0.0516\n1  0.000  1.000  0.000    0.0000\n2  0.048  0.868  0.084    0.6243\n3  0.000  0.830  0.170    0.8402\n4  0.000  1.000  0.000    0.0000"
     },
     "execution_count": 17,
     "metadata": {},
     "output_type": "execute_result"
    }
   ],
   "source": [
    "df_scores = df.from_dict(scores)\n",
    "df_scores.head()"
   ]
  },
  {
   "cell_type": "code",
   "execution_count": 18,
   "metadata": {},
   "outputs": [
    {
     "data": {
      "text/html": "<div>\n<style scoped>\n    .dataframe tbody tr th:only-of-type {\n        vertical-align: middle;\n    }\n\n    .dataframe tbody tr th {\n        vertical-align: top;\n    }\n\n    .dataframe thead th {\n        text-align: right;\n    }\n</style>\n<table border=\"1\" class=\"dataframe\">\n  <thead>\n    <tr style=\"text-align: right;\">\n      <th></th>\n      <th>id</th>\n      <th>by</th>\n      <th>author</th>\n      <th>time_ts</th>\n      <th>text</th>\n      <th>parent</th>\n      <th>ranking</th>\n      <th>neg</th>\n      <th>neutral</th>\n      <th>positive</th>\n      <th>compound</th>\n    </tr>\n  </thead>\n  <tbody>\n    <tr>\n      <td>0</td>\n      <td>2701393</td>\n      <td>5l</td>\n      <td>5l</td>\n      <td>2011-06-27 14:28:01+00:00</td>\n      <td>and the glazier who fixed all the broken windo...</td>\n      <td>2701243</td>\n      <td>0</td>\n      <td>0.155</td>\n      <td>0.700</td>\n      <td>0.145</td>\n      <td>-0.0516</td>\n    </tr>\n    <tr>\n      <td>1</td>\n      <td>5811403</td>\n      <td>99</td>\n      <td>99</td>\n      <td>2013-06-03 04:34:08+00:00</td>\n      <td>does canada have the equivalent of h1bgreen ca...</td>\n      <td>5804452</td>\n      <td>0</td>\n      <td>0.000</td>\n      <td>1.000</td>\n      <td>0.000</td>\n      <td>0.0000</td>\n    </tr>\n    <tr>\n      <td>2</td>\n      <td>21623</td>\n      <td>AF</td>\n      <td>AF</td>\n      <td>2007-05-12 17:53:20+00:00</td>\n      <td>speaking of rails there are other options in t...</td>\n      <td>21611</td>\n      <td>0</td>\n      <td>0.048</td>\n      <td>0.868</td>\n      <td>0.084</td>\n      <td>0.6243</td>\n    </tr>\n    <tr>\n      <td>3</td>\n      <td>10159727</td>\n      <td>EA</td>\n      <td>EA</td>\n      <td>2015-09-02 15:09:34+00:00</td>\n      <td>humans and large livestock and maybe even pets...</td>\n      <td>10159396</td>\n      <td>0</td>\n      <td>0.000</td>\n      <td>0.830</td>\n      <td>0.170</td>\n      <td>0.8402</td>\n    </tr>\n    <tr>\n      <td>4</td>\n      <td>2988424</td>\n      <td>Iv</td>\n      <td>Iv</td>\n      <td>2011-09-12 18:53:00+00:00</td>\n      <td>i must say i reacted in the same way when i re...</td>\n      <td>2988179</td>\n      <td>0</td>\n      <td>0.000</td>\n      <td>1.000</td>\n      <td>0.000</td>\n      <td>0.0000</td>\n    </tr>\n  </tbody>\n</table>\n</div>",
      "text/plain": "         id  by author                   time_ts  \\\n0   2701393  5l     5l 2011-06-27 14:28:01+00:00   \n1   5811403  99     99 2013-06-03 04:34:08+00:00   \n2     21623  AF     AF 2007-05-12 17:53:20+00:00   \n3  10159727  EA     EA 2015-09-02 15:09:34+00:00   \n4   2988424  Iv     Iv 2011-09-12 18:53:00+00:00   \n\n                                                text    parent  ranking  \\\n0  and the glazier who fixed all the broken windo...   2701243        0   \n1  does canada have the equivalent of h1bgreen ca...   5804452        0   \n2  speaking of rails there are other options in t...     21611        0   \n3  humans and large livestock and maybe even pets...  10159396        0   \n4  i must say i reacted in the same way when i re...   2988179        0   \n\n     neg  neutral  positive  compound  \n0  0.155    0.700     0.145   -0.0516  \n1  0.000    1.000     0.000    0.0000  \n2  0.048    0.868     0.084    0.6243  \n3  0.000    0.830     0.170    0.8402  \n4  0.000    1.000     0.000    0.0000  "
     },
     "execution_count": 18,
     "metadata": {},
     "output_type": "execute_result"
    }
   ],
   "source": [
    "df2['neg'] = df_scores['neg']\n",
    "df2['neutral'] = df_scores['neu']\n",
    "df2['positive'] = df_scores['pos']\n",
    "df2['compound'] = df_scores['compound']\n",
    "df2 = df2.drop('score', axis=1)\n",
    "df2.head()"
   ]
  },
  {
   "cell_type": "code",
   "execution_count": 19,
   "metadata": {},
   "outputs": [
    {
     "data": {
      "text/html": "<div>\n<style scoped>\n    .dataframe tbody tr th:only-of-type {\n        vertical-align: middle;\n    }\n\n    .dataframe tbody tr th {\n        vertical-align: top;\n    }\n\n    .dataframe thead th {\n        text-align: right;\n    }\n</style>\n<table border=\"1\" class=\"dataframe\">\n  <thead>\n    <tr style=\"text-align: right;\">\n      <th></th>\n      <th>id</th>\n      <th>by</th>\n      <th>author</th>\n      <th>time_ts</th>\n      <th>text</th>\n      <th>parent</th>\n      <th>ranking</th>\n      <th>neg</th>\n      <th>neutral</th>\n      <th>positive</th>\n      <th>compound</th>\n    </tr>\n  </thead>\n  <tbody>\n    <tr>\n      <td>7179</td>\n      <td>10277135</td>\n      <td>DanBC</td>\n      <td>DanBC</td>\n      <td>2015-09-25 09:41:23+00:00</td>\n      <td>drug use has clear links with violence althoug...</td>\n      <td>10276081</td>\n      <td>0</td>\n      <td>0.276</td>\n      <td>0.652</td>\n      <td>0.072</td>\n      <td>-0.9996</td>\n    </tr>\n    <tr>\n      <td>19788</td>\n      <td>9552225</td>\n      <td>saurik</td>\n      <td>saurik</td>\n      <td>2015-05-15 17:39:30+00:00</td>\n      <td>c allows either error cases and nonerror cases...</td>\n      <td>9551196</td>\n      <td>0</td>\n      <td>0.199</td>\n      <td>0.736</td>\n      <td>0.065</td>\n      <td>-0.9982</td>\n    </tr>\n    <tr>\n      <td>428</td>\n      <td>10306906</td>\n      <td>Natsu</td>\n      <td>Natsu</td>\n      <td>2015-09-30 20:28:30+00:00</td>\n      <td>i know almost nothing about this case but from...</td>\n      <td>10306574</td>\n      <td>0</td>\n      <td>0.139</td>\n      <td>0.805</td>\n      <td>0.055</td>\n      <td>-0.9982</td>\n    </tr>\n    <tr>\n      <td>27620</td>\n      <td>6909187</td>\n      <td>omegant</td>\n      <td>omegant</td>\n      <td>2013-12-15 12:39:14+00:00</td>\n      <td>airline pilot here with experience in b737 md ...</td>\n      <td>6907771</td>\n      <td>0</td>\n      <td>0.148</td>\n      <td>0.803</td>\n      <td>0.049</td>\n      <td>-0.9979</td>\n    </tr>\n    <tr>\n      <td>28254</td>\n      <td>9834233</td>\n      <td>rayalez</td>\n      <td>rayalez</td>\n      <td>2015-07-05 17:39:53+00:00</td>\n      <td>pprecode    gt while not appearing to assign m...</td>\n      <td>9834171</td>\n      <td>0</td>\n      <td>0.250</td>\n      <td>0.702</td>\n      <td>0.048</td>\n      <td>-0.9977</td>\n    </tr>\n  </tbody>\n</table>\n</div>",
      "text/plain": "             id       by   author                   time_ts  \\\n7179   10277135    DanBC    DanBC 2015-09-25 09:41:23+00:00   \n19788   9552225   saurik   saurik 2015-05-15 17:39:30+00:00   \n428    10306906    Natsu    Natsu 2015-09-30 20:28:30+00:00   \n27620   6909187  omegant  omegant 2013-12-15 12:39:14+00:00   \n28254   9834233  rayalez  rayalez 2015-07-05 17:39:53+00:00   \n\n                                                    text    parent  ranking  \\\n7179   drug use has clear links with violence althoug...  10276081        0   \n19788  c allows either error cases and nonerror cases...   9551196        0   \n428    i know almost nothing about this case but from...  10306574        0   \n27620  airline pilot here with experience in b737 md ...   6907771        0   \n28254  pprecode    gt while not appearing to assign m...   9834171        0   \n\n         neg  neutral  positive  compound  \n7179   0.276    0.652     0.072   -0.9996  \n19788  0.199    0.736     0.065   -0.9982  \n428    0.139    0.805     0.055   -0.9982  \n27620  0.148    0.803     0.049   -0.9979  \n28254  0.250    0.702     0.048   -0.9977  "
     },
     "execution_count": 19,
     "metadata": {},
     "output_type": "execute_result"
    }
   ],
   "source": [
    "df3 = df2.sort_values(by='compound')\n",
    "df3.head()"
   ]
  },
  {
   "cell_type": "code",
   "execution_count": 20,
   "metadata": {},
   "outputs": [
    {
     "data": {
      "text/html": "<div>\n<style scoped>\n    .dataframe tbody tr th:only-of-type {\n        vertical-align: middle;\n    }\n\n    .dataframe tbody tr th {\n        vertical-align: top;\n    }\n\n    .dataframe thead th {\n        text-align: right;\n    }\n</style>\n<table border=\"1\" class=\"dataframe\">\n  <thead>\n    <tr style=\"text-align: right;\">\n      <th></th>\n      <th>id</th>\n      <th>by</th>\n      <th>author</th>\n      <th>time_ts</th>\n      <th>text</th>\n      <th>parent</th>\n      <th>ranking</th>\n      <th>neg</th>\n      <th>neutral</th>\n      <th>positive</th>\n      <th>compound</th>\n    </tr>\n  </thead>\n  <tbody>\n    <tr>\n      <td>7179</td>\n      <td>10277135</td>\n      <td>DanBC</td>\n      <td>DanBC</td>\n      <td>2015-09-25 09:41:23+00:00</td>\n      <td>drug use has clear links with violence althoug...</td>\n      <td>10276081</td>\n      <td>0</td>\n      <td>0.276</td>\n      <td>0.652</td>\n      <td>0.072</td>\n      <td>-0.9996</td>\n    </tr>\n    <tr>\n      <td>19788</td>\n      <td>9552225</td>\n      <td>saurik</td>\n      <td>saurik</td>\n      <td>2015-05-15 17:39:30+00:00</td>\n      <td>c allows either error cases and nonerror cases...</td>\n      <td>9551196</td>\n      <td>0</td>\n      <td>0.199</td>\n      <td>0.736</td>\n      <td>0.065</td>\n      <td>-0.9982</td>\n    </tr>\n    <tr>\n      <td>428</td>\n      <td>10306906</td>\n      <td>Natsu</td>\n      <td>Natsu</td>\n      <td>2015-09-30 20:28:30+00:00</td>\n      <td>i know almost nothing about this case but from...</td>\n      <td>10306574</td>\n      <td>0</td>\n      <td>0.139</td>\n      <td>0.805</td>\n      <td>0.055</td>\n      <td>-0.9982</td>\n    </tr>\n    <tr>\n      <td>27620</td>\n      <td>6909187</td>\n      <td>omegant</td>\n      <td>omegant</td>\n      <td>2013-12-15 12:39:14+00:00</td>\n      <td>airline pilot here with experience in b737 md ...</td>\n      <td>6907771</td>\n      <td>0</td>\n      <td>0.148</td>\n      <td>0.803</td>\n      <td>0.049</td>\n      <td>-0.9979</td>\n    </tr>\n    <tr>\n      <td>28254</td>\n      <td>9834233</td>\n      <td>rayalez</td>\n      <td>rayalez</td>\n      <td>2015-07-05 17:39:53+00:00</td>\n      <td>pprecode    gt while not appearing to assign m...</td>\n      <td>9834171</td>\n      <td>0</td>\n      <td>0.250</td>\n      <td>0.702</td>\n      <td>0.048</td>\n      <td>-0.9977</td>\n    </tr>\n  </tbody>\n</table>\n</div>",
      "text/plain": "             id       by   author                   time_ts  \\\n7179   10277135    DanBC    DanBC 2015-09-25 09:41:23+00:00   \n19788   9552225   saurik   saurik 2015-05-15 17:39:30+00:00   \n428    10306906    Natsu    Natsu 2015-09-30 20:28:30+00:00   \n27620   6909187  omegant  omegant 2013-12-15 12:39:14+00:00   \n28254   9834233  rayalez  rayalez 2015-07-05 17:39:53+00:00   \n\n                                                    text    parent  ranking  \\\n7179   drug use has clear links with violence althoug...  10276081        0   \n19788  c allows either error cases and nonerror cases...   9551196        0   \n428    i know almost nothing about this case but from...  10306574        0   \n27620  airline pilot here with experience in b737 md ...   6907771        0   \n28254  pprecode    gt while not appearing to assign m...   9834171        0   \n\n         neg  neutral  positive  compound  \n7179   0.276    0.652     0.072   -0.9996  \n19788  0.199    0.736     0.065   -0.9982  \n428    0.139    0.805     0.055   -0.9982  \n27620  0.148    0.803     0.049   -0.9979  \n28254  0.250    0.702     0.048   -0.9977  "
     },
     "execution_count": 20,
     "metadata": {},
     "output_type": "execute_result"
    }
   ],
   "source": [
    "#df3 = df3.groupby(by='author')\n",
    "df3.head()"
   ]
  },
  {
   "cell_type": "code",
   "execution_count": 21,
   "metadata": {},
   "outputs": [
    {
     "data": {
      "text/plain": "[2.1544000000000003, 4.012100000000001, 0.8482000000000005, -2.4314, -0.655]"
     },
     "execution_count": 21,
     "metadata": {},
     "output_type": "execute_result"
    }
   ],
   "source": [
    "#Logic wound up being poor for actually generating total scores\n",
    "#Tried adding in the list of unique user names to make the math work\n",
    "scores = []\n",
    "users = df3[\"author\"].unique()\n",
    "for i in users:\n",
    "    score = df3.loc[df3['author'] == i, 'compound'].sum()\n",
    "    scores.append(score)\n",
    "scores[0:5]"
   ]
  },
  {
   "cell_type": "code",
   "execution_count": 22,
   "metadata": {},
   "outputs": [
    {
     "data": {
      "text/html": "<div>\n<style scoped>\n    .dataframe tbody tr th:only-of-type {\n        vertical-align: middle;\n    }\n\n    .dataframe tbody tr th {\n        vertical-align: top;\n    }\n\n    .dataframe thead th {\n        text-align: right;\n    }\n</style>\n<table border=\"1\" class=\"dataframe\">\n  <thead>\n    <tr style=\"text-align: right;\">\n      <th></th>\n      <th>0</th>\n    </tr>\n  </thead>\n  <tbody>\n    <tr>\n      <td>0</td>\n      <td>DanBC</td>\n    </tr>\n    <tr>\n      <td>1</td>\n      <td>saurik</td>\n    </tr>\n    <tr>\n      <td>2</td>\n      <td>Natsu</td>\n    </tr>\n    <tr>\n      <td>3</td>\n      <td>omegant</td>\n    </tr>\n    <tr>\n      <td>4</td>\n      <td>rayalez</td>\n    </tr>\n  </tbody>\n</table>\n</div>",
      "text/plain": "         0\n0    DanBC\n1   saurik\n2    Natsu\n3  omegant\n4  rayalez"
     },
     "execution_count": 22,
     "metadata": {},
     "output_type": "execute_result"
    }
   ],
   "source": [
    "scores_df = pd.DataFrame(df3['author'].unique())\n",
    "scores_df.head()"
   ]
  },
  {
   "cell_type": "code",
   "execution_count": 23,
   "metadata": {},
   "outputs": [
    {
     "data": {
      "text/html": "<div>\n<style scoped>\n    .dataframe tbody tr th:only-of-type {\n        vertical-align: middle;\n    }\n\n    .dataframe tbody tr th {\n        vertical-align: top;\n    }\n\n    .dataframe thead th {\n        text-align: right;\n    }\n</style>\n<table border=\"1\" class=\"dataframe\">\n  <thead>\n    <tr style=\"text-align: right;\">\n      <th></th>\n      <th>0</th>\n      <th>Scores</th>\n    </tr>\n  </thead>\n  <tbody>\n    <tr>\n      <td>0</td>\n      <td>DanBC</td>\n      <td>2.1544</td>\n    </tr>\n    <tr>\n      <td>1</td>\n      <td>saurik</td>\n      <td>4.0121</td>\n    </tr>\n    <tr>\n      <td>2</td>\n      <td>Natsu</td>\n      <td>0.8482</td>\n    </tr>\n    <tr>\n      <td>3</td>\n      <td>omegant</td>\n      <td>-2.4314</td>\n    </tr>\n    <tr>\n      <td>4</td>\n      <td>rayalez</td>\n      <td>-0.6550</td>\n    </tr>\n  </tbody>\n</table>\n</div>",
      "text/plain": "         0  Scores\n0    DanBC  2.1544\n1   saurik  4.0121\n2    Natsu  0.8482\n3  omegant -2.4314\n4  rayalez -0.6550"
     },
     "execution_count": 23,
     "metadata": {},
     "output_type": "execute_result"
    }
   ],
   "source": [
    "scores_df['Scores'] = scores\n",
    "scores_df.head()"
   ]
  },
  {
   "cell_type": "code",
   "execution_count": 24,
   "metadata": {},
   "outputs": [
    {
     "data": {
      "text/html": "<div>\n<style scoped>\n    .dataframe tbody tr th:only-of-type {\n        vertical-align: middle;\n    }\n\n    .dataframe tbody tr th {\n        vertical-align: top;\n    }\n\n    .dataframe thead th {\n        text-align: right;\n    }\n</style>\n<table border=\"1\" class=\"dataframe\">\n  <thead>\n    <tr style=\"text-align: right;\">\n      <th></th>\n      <th>0</th>\n      <th>Scores</th>\n    </tr>\n  </thead>\n  <tbody>\n    <tr>\n      <td>474</td>\n      <td>jlgreco</td>\n      <td>-5.6119</td>\n    </tr>\n    <tr>\n      <td>32</td>\n      <td>wnight</td>\n      <td>-5.4195</td>\n    </tr>\n    <tr>\n      <td>826</td>\n      <td>tsotha</td>\n      <td>-4.6735</td>\n    </tr>\n    <tr>\n      <td>404</td>\n      <td>GHFigs</td>\n      <td>-3.2631</td>\n    </tr>\n    <tr>\n      <td>232</td>\n      <td>tedks</td>\n      <td>-3.2189</td>\n    </tr>\n    <tr>\n      <td>...</td>\n      <td>...</td>\n      <td>...</td>\n    </tr>\n    <tr>\n      <td>73</td>\n      <td>rbanffy</td>\n      <td>24.5337</td>\n    </tr>\n    <tr>\n      <td>214</td>\n      <td>rdl</td>\n      <td>24.5744</td>\n    </tr>\n    <tr>\n      <td>52</td>\n      <td>patio11</td>\n      <td>28.2934</td>\n    </tr>\n    <tr>\n      <td>87</td>\n      <td>jerf</td>\n      <td>28.6256</td>\n    </tr>\n    <tr>\n      <td>791</td>\n      <td>eru</td>\n      <td>30.7788</td>\n    </tr>\n  </tbody>\n</table>\n<p>10200 rows × 2 columns</p>\n</div>",
      "text/plain": "           0   Scores\n474  jlgreco  -5.6119\n32    wnight  -5.4195\n826   tsotha  -4.6735\n404   GHFigs  -3.2631\n232    tedks  -3.2189\n..       ...      ...\n73   rbanffy  24.5337\n214      rdl  24.5744\n52   patio11  28.2934\n87      jerf  28.6256\n791      eru  30.7788\n\n[10200 rows x 2 columns]"
     },
     "execution_count": 24,
     "metadata": {},
     "output_type": "execute_result"
    }
   ],
   "source": [
    "scores_df.sort_values(by='Scores', ascending=True)"
   ]
  },
  {
   "cell_type": "code",
   "execution_count": 25,
   "metadata": {},
   "outputs": [],
   "source": [
    "column_dict = {0:'author'}\n",
    "scores_df = scores_df.rename(column_dict, axis=1)"
   ]
  },
  {
   "cell_type": "code",
   "execution_count": 26,
   "metadata": {},
   "outputs": [
    {
     "data": {
      "text/plain": "-5.6119"
     },
     "execution_count": 26,
     "metadata": {},
     "output_type": "execute_result"
    }
   ],
   "source": [
    "df3.loc[df3['author'] == 'jlgreco', 'compound'].sum()"
   ]
  },
  {
   "cell_type": "code",
   "execution_count": 33,
   "metadata": {},
   "outputs": [
    {
     "data": {
      "text/html": "<div>\n<style scoped>\n    .dataframe tbody tr th:only-of-type {\n        vertical-align: middle;\n    }\n\n    .dataframe tbody tr th {\n        vertical-align: top;\n    }\n\n    .dataframe thead th {\n        text-align: right;\n    }\n</style>\n<table border=\"1\" class=\"dataframe\">\n  <thead>\n    <tr style=\"text-align: right;\">\n      <th></th>\n      <th>id</th>\n      <th>by</th>\n      <th>author</th>\n      <th>time_ts</th>\n      <th>text</th>\n      <th>parent</th>\n      <th>ranking</th>\n      <th>neg</th>\n      <th>neutral</th>\n      <th>positive</th>\n      <th>compound</th>\n      <th>Scores</th>\n    </tr>\n  </thead>\n  <tbody>\n    <tr>\n      <td>0</td>\n      <td>10277135</td>\n      <td>DanBC</td>\n      <td>DanBC</td>\n      <td>2015-09-25 09:41:23+00:00</td>\n      <td>drug use has clear links with violence althoug...</td>\n      <td>10276081</td>\n      <td>0</td>\n      <td>0.276</td>\n      <td>0.652</td>\n      <td>0.072</td>\n      <td>-0.9996</td>\n      <td>2.1544</td>\n    </tr>\n    <tr>\n      <td>1</td>\n      <td>8013915</td>\n      <td>DanBC</td>\n      <td>DanBC</td>\n      <td>2014-07-10 06:37:37+00:00</td>\n      <td>you still havent said whether you are respondi...</td>\n      <td>8013637</td>\n      <td>0</td>\n      <td>0.196</td>\n      <td>0.747</td>\n      <td>0.057</td>\n      <td>-0.9963</td>\n      <td>2.1544</td>\n    </tr>\n    <tr>\n      <td>2</td>\n      <td>4849637</td>\n      <td>DanBC</td>\n      <td>DanBC</td>\n      <td>2012-11-29 19:08:01+00:00</td>\n      <td>trading in snuff films is not legal in all reg...</td>\n      <td>4848813</td>\n      <td>0</td>\n      <td>0.335</td>\n      <td>0.646</td>\n      <td>0.019</td>\n      <td>-0.9938</td>\n      <td>2.1544</td>\n    </tr>\n    <tr>\n      <td>3</td>\n      <td>5952124</td>\n      <td>DanBC</td>\n      <td>DanBC</td>\n      <td>2013-06-27 13:27:01+00:00</td>\n      <td>gt they got locked up and then sectioned indef...</td>\n      <td>5952052</td>\n      <td>0</td>\n      <td>0.170</td>\n      <td>0.772</td>\n      <td>0.059</td>\n      <td>-0.9779</td>\n      <td>2.1544</td>\n    </tr>\n    <tr>\n      <td>4</td>\n      <td>3728783</td>\n      <td>DanBC</td>\n      <td>DanBC</td>\n      <td>2012-03-20 11:47:39+00:00</td>\n      <td>yes  poor people migrate to where they think t...</td>\n      <td>3728720</td>\n      <td>0</td>\n      <td>0.243</td>\n      <td>0.706</td>\n      <td>0.051</td>\n      <td>-0.9623</td>\n      <td>2.1544</td>\n    </tr>\n  </tbody>\n</table>\n</div>",
      "text/plain": "         id     by author                   time_ts  \\\n0  10277135  DanBC  DanBC 2015-09-25 09:41:23+00:00   \n1   8013915  DanBC  DanBC 2014-07-10 06:37:37+00:00   \n2   4849637  DanBC  DanBC 2012-11-29 19:08:01+00:00   \n3   5952124  DanBC  DanBC 2013-06-27 13:27:01+00:00   \n4   3728783  DanBC  DanBC 2012-03-20 11:47:39+00:00   \n\n                                                text    parent  ranking  \\\n0  drug use has clear links with violence althoug...  10276081        0   \n1  you still havent said whether you are respondi...   8013637        0   \n2  trading in snuff films is not legal in all reg...   4848813        0   \n3  gt they got locked up and then sectioned indef...   5952052        0   \n4  yes  poor people migrate to where they think t...   3728720        0   \n\n     neg  neutral  positive  compound  Scores  \n0  0.276    0.652     0.072   -0.9996  2.1544  \n1  0.196    0.747     0.057   -0.9963  2.1544  \n2  0.335    0.646     0.019   -0.9938  2.1544  \n3  0.170    0.772     0.059   -0.9779  2.1544  \n4  0.243    0.706     0.051   -0.9623  2.1544  "
     },
     "execution_count": 33,
     "metadata": {},
     "output_type": "execute_result"
    }
   ],
   "source": [
    "df4 = df3.merge(scores_df)\n",
    "#df4 = df4.drop(['ranking', 'Total_Score'], axis=1)\n",
    "df4.head()"
   ]
  },
  {
   "cell_type": "code",
   "execution_count": 34,
   "metadata": {},
   "outputs": [],
   "source": [
    "column_dict = {\"Scores\":\"Total_Score\"}\n",
    "df4 = df4.rename(column_dict, axis=1)"
   ]
  },
  {
   "cell_type": "code",
   "execution_count": 35,
   "metadata": {},
   "outputs": [
    {
     "data": {
      "text/html": "<div>\n<style scoped>\n    .dataframe tbody tr th:only-of-type {\n        vertical-align: middle;\n    }\n\n    .dataframe tbody tr th {\n        vertical-align: top;\n    }\n\n    .dataframe thead th {\n        text-align: right;\n    }\n</style>\n<table border=\"1\" class=\"dataframe\">\n  <thead>\n    <tr style=\"text-align: right;\">\n      <th></th>\n      <th>id</th>\n      <th>by</th>\n      <th>author</th>\n      <th>time_ts</th>\n      <th>text</th>\n      <th>parent</th>\n      <th>ranking</th>\n      <th>neg</th>\n      <th>neutral</th>\n      <th>positive</th>\n      <th>compound</th>\n      <th>Total_Score</th>\n    </tr>\n  </thead>\n  <tbody>\n    <tr>\n      <td>0</td>\n      <td>10277135</td>\n      <td>DanBC</td>\n      <td>DanBC</td>\n      <td>2015-09-25 09:41:23+00:00</td>\n      <td>drug use has clear links with violence althoug...</td>\n      <td>10276081</td>\n      <td>0</td>\n      <td>0.276</td>\n      <td>0.652</td>\n      <td>0.072</td>\n      <td>-0.9996</td>\n      <td>2.1544</td>\n    </tr>\n    <tr>\n      <td>1</td>\n      <td>8013915</td>\n      <td>DanBC</td>\n      <td>DanBC</td>\n      <td>2014-07-10 06:37:37+00:00</td>\n      <td>you still havent said whether you are respondi...</td>\n      <td>8013637</td>\n      <td>0</td>\n      <td>0.196</td>\n      <td>0.747</td>\n      <td>0.057</td>\n      <td>-0.9963</td>\n      <td>2.1544</td>\n    </tr>\n    <tr>\n      <td>2</td>\n      <td>4849637</td>\n      <td>DanBC</td>\n      <td>DanBC</td>\n      <td>2012-11-29 19:08:01+00:00</td>\n      <td>trading in snuff films is not legal in all reg...</td>\n      <td>4848813</td>\n      <td>0</td>\n      <td>0.335</td>\n      <td>0.646</td>\n      <td>0.019</td>\n      <td>-0.9938</td>\n      <td>2.1544</td>\n    </tr>\n    <tr>\n      <td>3</td>\n      <td>5952124</td>\n      <td>DanBC</td>\n      <td>DanBC</td>\n      <td>2013-06-27 13:27:01+00:00</td>\n      <td>gt they got locked up and then sectioned indef...</td>\n      <td>5952052</td>\n      <td>0</td>\n      <td>0.170</td>\n      <td>0.772</td>\n      <td>0.059</td>\n      <td>-0.9779</td>\n      <td>2.1544</td>\n    </tr>\n    <tr>\n      <td>4</td>\n      <td>3728783</td>\n      <td>DanBC</td>\n      <td>DanBC</td>\n      <td>2012-03-20 11:47:39+00:00</td>\n      <td>yes  poor people migrate to where they think t...</td>\n      <td>3728720</td>\n      <td>0</td>\n      <td>0.243</td>\n      <td>0.706</td>\n      <td>0.051</td>\n      <td>-0.9623</td>\n      <td>2.1544</td>\n    </tr>\n  </tbody>\n</table>\n</div>",
      "text/plain": "         id     by author                   time_ts  \\\n0  10277135  DanBC  DanBC 2015-09-25 09:41:23+00:00   \n1   8013915  DanBC  DanBC 2014-07-10 06:37:37+00:00   \n2   4849637  DanBC  DanBC 2012-11-29 19:08:01+00:00   \n3   5952124  DanBC  DanBC 2013-06-27 13:27:01+00:00   \n4   3728783  DanBC  DanBC 2012-03-20 11:47:39+00:00   \n\n                                                text    parent  ranking  \\\n0  drug use has clear links with violence althoug...  10276081        0   \n1  you still havent said whether you are respondi...   8013637        0   \n2  trading in snuff films is not legal in all reg...   4848813        0   \n3  gt they got locked up and then sectioned indef...   5952052        0   \n4  yes  poor people migrate to where they think t...   3728720        0   \n\n     neg  neutral  positive  compound  Total_Score  \n0  0.276    0.652     0.072   -0.9996       2.1544  \n1  0.196    0.747     0.057   -0.9963       2.1544  \n2  0.335    0.646     0.019   -0.9938       2.1544  \n3  0.170    0.772     0.059   -0.9779       2.1544  \n4  0.243    0.706     0.051   -0.9623       2.1544  "
     },
     "execution_count": 35,
     "metadata": {},
     "output_type": "execute_result"
    }
   ],
   "source": [
    "df4.head()"
   ]
  },
  {
   "cell_type": "code",
   "execution_count": 36,
   "metadata": {},
   "outputs": [
    {
     "data": {
      "text/html": "<div>\n<style scoped>\n    .dataframe tbody tr th:only-of-type {\n        vertical-align: middle;\n    }\n\n    .dataframe tbody tr th {\n        vertical-align: top;\n    }\n\n    .dataframe thead th {\n        text-align: right;\n    }\n</style>\n<table border=\"1\" class=\"dataframe\">\n  <thead>\n    <tr style=\"text-align: right;\">\n      <th></th>\n      <th>id</th>\n      <th>by</th>\n      <th>author</th>\n      <th>time_ts</th>\n      <th>text</th>\n      <th>parent</th>\n      <th>ranking</th>\n      <th>neg</th>\n      <th>neutral</th>\n      <th>positive</th>\n      <th>compound</th>\n      <th>Total_Score</th>\n    </tr>\n  </thead>\n  <tbody>\n    <tr>\n      <td>6106</td>\n      <td>5046993</td>\n      <td>jlgreco</td>\n      <td>jlgreco</td>\n      <td>2013-01-12 08:26:59+00:00</td>\n      <td>we have no problem directing our attention at ...</td>\n      <td>5046956</td>\n      <td>0</td>\n      <td>0.342</td>\n      <td>0.658</td>\n      <td>0.000</td>\n      <td>-0.9109</td>\n      <td>-5.6119</td>\n    </tr>\n    <tr>\n      <td>6107</td>\n      <td>5230849</td>\n      <td>jlgreco</td>\n      <td>jlgreco</td>\n      <td>2013-02-16 08:07:35+00:00</td>\n      <td>are you familiar with what caning as performed...</td>\n      <td>5230787</td>\n      <td>0</td>\n      <td>0.161</td>\n      <td>0.766</td>\n      <td>0.072</td>\n      <td>-0.9052</td>\n      <td>-5.6119</td>\n    </tr>\n    <tr>\n      <td>6108</td>\n      <td>6419797</td>\n      <td>jlgreco</td>\n      <td>jlgreco</td>\n      <td>2013-09-20 18:57:52+00:00</td>\n      <td>a fizzle of the relatively small fission prima...</td>\n      <td>6419640</td>\n      <td>0</td>\n      <td>0.121</td>\n      <td>0.867</td>\n      <td>0.011</td>\n      <td>-0.9032</td>\n      <td>-5.6119</td>\n    </tr>\n    <tr>\n      <td>6109</td>\n      <td>6747953</td>\n      <td>jlgreco</td>\n      <td>jlgreco</td>\n      <td>2013-11-17 07:11:56+00:00</td>\n      <td>that possibility is where this section applies...</td>\n      <td>6746255</td>\n      <td>0</td>\n      <td>0.221</td>\n      <td>0.742</td>\n      <td>0.037</td>\n      <td>-0.8720</td>\n      <td>-5.6119</td>\n    </tr>\n    <tr>\n      <td>6110</td>\n      <td>5188700</td>\n      <td>jlgreco</td>\n      <td>jlgreco</td>\n      <td>2013-02-08 16:43:21+00:00</td>\n      <td>petitioning to have a government official fire...</td>\n      <td>5188560</td>\n      <td>0</td>\n      <td>0.190</td>\n      <td>0.759</td>\n      <td>0.051</td>\n      <td>-0.8643</td>\n      <td>-5.6119</td>\n    </tr>\n    <tr>\n      <td>...</td>\n      <td>...</td>\n      <td>...</td>\n      <td>...</td>\n      <td>...</td>\n      <td>...</td>\n      <td>...</td>\n      <td>...</td>\n      <td>...</td>\n      <td>...</td>\n      <td>...</td>\n      <td>...</td>\n      <td>...</td>\n    </tr>\n    <tr>\n      <td>8793</td>\n      <td>5509924</td>\n      <td>eru</td>\n      <td>eru</td>\n      <td>2013-04-08 04:03:16+00:00</td>\n      <td>you can also ask a trusted friend  just ask th...</td>\n      <td>5497159</td>\n      <td>0</td>\n      <td>0.000</td>\n      <td>0.593</td>\n      <td>0.407</td>\n      <td>0.8625</td>\n      <td>30.7788</td>\n    </tr>\n    <tr>\n      <td>8794</td>\n      <td>2506281</td>\n      <td>eru</td>\n      <td>eru</td>\n      <td>2011-05-02 14:02:06+00:00</td>\n      <td>standard deviation is the square root of varia...</td>\n      <td>2506029</td>\n      <td>0</td>\n      <td>0.000</td>\n      <td>0.873</td>\n      <td>0.127</td>\n      <td>0.9050</td>\n      <td>30.7788</td>\n    </tr>\n    <tr>\n      <td>8795</td>\n      <td>1200096</td>\n      <td>eru</td>\n      <td>eru</td>\n      <td>2010-03-18 00:24:44+00:00</td>\n      <td>oh theres something to be said for having an o...</td>\n      <td>1200064</td>\n      <td>0</td>\n      <td>0.000</td>\n      <td>0.731</td>\n      <td>0.269</td>\n      <td>0.9056</td>\n      <td>30.7788</td>\n    </tr>\n    <tr>\n      <td>8796</td>\n      <td>915326</td>\n      <td>eru</td>\n      <td>eru</td>\n      <td>2009-11-01 18:01:14+00:00</td>\n      <td>depends on what you mean by every thing else  ...</td>\n      <td>915218</td>\n      <td>0</td>\n      <td>0.000</td>\n      <td>0.722</td>\n      <td>0.278</td>\n      <td>0.9325</td>\n      <td>30.7788</td>\n    </tr>\n    <tr>\n      <td>8797</td>\n      <td>4997309</td>\n      <td>eru</td>\n      <td>eru</td>\n      <td>2013-01-02 16:03:14+00:00</td>\n      <td>62 we europeans have switched from our country...</td>\n      <td>4996706</td>\n      <td>0</td>\n      <td>0.015</td>\n      <td>0.759</td>\n      <td>0.226</td>\n      <td>0.9662</td>\n      <td>30.7788</td>\n    </tr>\n  </tbody>\n</table>\n<p>30000 rows × 12 columns</p>\n</div>",
      "text/plain": "           id       by   author                   time_ts  \\\n6106  5046993  jlgreco  jlgreco 2013-01-12 08:26:59+00:00   \n6107  5230849  jlgreco  jlgreco 2013-02-16 08:07:35+00:00   \n6108  6419797  jlgreco  jlgreco 2013-09-20 18:57:52+00:00   \n6109  6747953  jlgreco  jlgreco 2013-11-17 07:11:56+00:00   \n6110  5188700  jlgreco  jlgreco 2013-02-08 16:43:21+00:00   \n...       ...      ...      ...                       ...   \n8793  5509924      eru      eru 2013-04-08 04:03:16+00:00   \n8794  2506281      eru      eru 2011-05-02 14:02:06+00:00   \n8795  1200096      eru      eru 2010-03-18 00:24:44+00:00   \n8796   915326      eru      eru 2009-11-01 18:01:14+00:00   \n8797  4997309      eru      eru 2013-01-02 16:03:14+00:00   \n\n                                                   text   parent  ranking  \\\n6106  we have no problem directing our attention at ...  5046956        0   \n6107  are you familiar with what caning as performed...  5230787        0   \n6108  a fizzle of the relatively small fission prima...  6419640        0   \n6109  that possibility is where this section applies...  6746255        0   \n6110  petitioning to have a government official fire...  5188560        0   \n...                                                 ...      ...      ...   \n8793  you can also ask a trusted friend  just ask th...  5497159        0   \n8794  standard deviation is the square root of varia...  2506029        0   \n8795  oh theres something to be said for having an o...  1200064        0   \n8796  depends on what you mean by every thing else  ...   915218        0   \n8797  62 we europeans have switched from our country...  4996706        0   \n\n        neg  neutral  positive  compound  Total_Score  \n6106  0.342    0.658     0.000   -0.9109      -5.6119  \n6107  0.161    0.766     0.072   -0.9052      -5.6119  \n6108  0.121    0.867     0.011   -0.9032      -5.6119  \n6109  0.221    0.742     0.037   -0.8720      -5.6119  \n6110  0.190    0.759     0.051   -0.8643      -5.6119  \n...     ...      ...       ...       ...          ...  \n8793  0.000    0.593     0.407    0.8625      30.7788  \n8794  0.000    0.873     0.127    0.9050      30.7788  \n8795  0.000    0.731     0.269    0.9056      30.7788  \n8796  0.000    0.722     0.278    0.9325      30.7788  \n8797  0.015    0.759     0.226    0.9662      30.7788  \n\n[30000 rows x 12 columns]"
     },
     "execution_count": 36,
     "metadata": {},
     "output_type": "execute_result"
    }
   ],
   "source": [
    "df4.sort_values(by=[\"Total_Score\", \"compound\"])"
   ]
  },
  {
   "cell_type": "code",
   "execution_count": 37,
   "metadata": {},
   "outputs": [
    {
     "data": {
      "text/html": "<div>\n<style scoped>\n    .dataframe tbody tr th:only-of-type {\n        vertical-align: middle;\n    }\n\n    .dataframe tbody tr th {\n        vertical-align: top;\n    }\n\n    .dataframe thead th {\n        text-align: right;\n    }\n</style>\n<table border=\"1\" class=\"dataframe\">\n  <thead>\n    <tr style=\"text-align: right;\">\n      <th></th>\n      <th>id</th>\n      <th>by</th>\n      <th>author</th>\n      <th>time_ts</th>\n      <th>text</th>\n      <th>parent</th>\n      <th>ranking</th>\n      <th>neg</th>\n      <th>neutral</th>\n      <th>positive</th>\n      <th>compound</th>\n      <th>Total_Score</th>\n    </tr>\n  </thead>\n  <tbody>\n    <tr>\n      <td>0</td>\n      <td>10277135</td>\n      <td>DanBC</td>\n      <td>DanBC</td>\n      <td>2015-09-25 09:41:23+00:00</td>\n      <td>drug use has clear links with violence althoug...</td>\n      <td>10276081</td>\n      <td>0</td>\n      <td>0.276</td>\n      <td>0.652</td>\n      <td>0.072</td>\n      <td>-0.9996</td>\n      <td>2.1544</td>\n    </tr>\n    <tr>\n      <td>1</td>\n      <td>8013915</td>\n      <td>DanBC</td>\n      <td>DanBC</td>\n      <td>2014-07-10 06:37:37+00:00</td>\n      <td>you still havent said whether you are respondi...</td>\n      <td>8013637</td>\n      <td>0</td>\n      <td>0.196</td>\n      <td>0.747</td>\n      <td>0.057</td>\n      <td>-0.9963</td>\n      <td>2.1544</td>\n    </tr>\n    <tr>\n      <td>2</td>\n      <td>4849637</td>\n      <td>DanBC</td>\n      <td>DanBC</td>\n      <td>2012-11-29 19:08:01+00:00</td>\n      <td>trading in snuff films is not legal in all reg...</td>\n      <td>4848813</td>\n      <td>0</td>\n      <td>0.335</td>\n      <td>0.646</td>\n      <td>0.019</td>\n      <td>-0.9938</td>\n      <td>2.1544</td>\n    </tr>\n    <tr>\n      <td>3</td>\n      <td>5952124</td>\n      <td>DanBC</td>\n      <td>DanBC</td>\n      <td>2013-06-27 13:27:01+00:00</td>\n      <td>gt they got locked up and then sectioned indef...</td>\n      <td>5952052</td>\n      <td>0</td>\n      <td>0.170</td>\n      <td>0.772</td>\n      <td>0.059</td>\n      <td>-0.9779</td>\n      <td>2.1544</td>\n    </tr>\n    <tr>\n      <td>4</td>\n      <td>3728783</td>\n      <td>DanBC</td>\n      <td>DanBC</td>\n      <td>2012-03-20 11:47:39+00:00</td>\n      <td>yes  poor people migrate to where they think t...</td>\n      <td>3728720</td>\n      <td>0</td>\n      <td>0.243</td>\n      <td>0.706</td>\n      <td>0.051</td>\n      <td>-0.9623</td>\n      <td>2.1544</td>\n    </tr>\n  </tbody>\n</table>\n</div>",
      "text/plain": "         id     by author                   time_ts  \\\n0  10277135  DanBC  DanBC 2015-09-25 09:41:23+00:00   \n1   8013915  DanBC  DanBC 2014-07-10 06:37:37+00:00   \n2   4849637  DanBC  DanBC 2012-11-29 19:08:01+00:00   \n3   5952124  DanBC  DanBC 2013-06-27 13:27:01+00:00   \n4   3728783  DanBC  DanBC 2012-03-20 11:47:39+00:00   \n\n                                                text    parent  ranking  \\\n0  drug use has clear links with violence althoug...  10276081        0   \n1  you still havent said whether you are respondi...   8013637        0   \n2  trading in snuff films is not legal in all reg...   4848813        0   \n3  gt they got locked up and then sectioned indef...   5952052        0   \n4  yes  poor people migrate to where they think t...   3728720        0   \n\n     neg  neutral  positive  compound  Total_Score  \n0  0.276    0.652     0.072   -0.9996       2.1544  \n1  0.196    0.747     0.057   -0.9963       2.1544  \n2  0.335    0.646     0.019   -0.9938       2.1544  \n3  0.170    0.772     0.059   -0.9779       2.1544  \n4  0.243    0.706     0.051   -0.9623       2.1544  "
     },
     "execution_count": 37,
     "metadata": {},
     "output_type": "execute_result"
    }
   ],
   "source": [
    "df4.head()"
   ]
  },
  {
   "cell_type": "code",
   "execution_count": 83,
   "metadata": {},
   "outputs": [
    {
     "data": {
      "text/plain": "2.1544000000000003"
     },
     "execution_count": 83,
     "metadata": {},
     "output_type": "execute_result"
    }
   ],
   "source": []
  },
  {
   "cell_type": "code",
   "execution_count": null,
   "metadata": {},
   "outputs": [],
   "source": []
  }
 ],
 "metadata": {
  "kernelspec": {
   "display_name": "Python 3.7.4 64-bit ('base': conda)",
   "language": "python",
   "name": "python37464bitbasecondaa825d1717f2d413ba37c2252512fd943"
  },
  "language_info": {
   "codemirror_mode": {
    "name": "ipython",
    "version": 3
   },
   "file_extension": ".py",
   "mimetype": "text/x-python",
   "name": "python",
   "nbconvert_exporter": "python",
   "pygments_lexer": "ipython3",
   "version": "3.7.4-final"
  }
 },
 "nbformat": 4,
 "nbformat_minor": 4
}