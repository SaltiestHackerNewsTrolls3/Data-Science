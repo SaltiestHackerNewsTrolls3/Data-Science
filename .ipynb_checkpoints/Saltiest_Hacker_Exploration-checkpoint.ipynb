{
  "nbformat": 4,
  "nbformat_minor": 0,
  "metadata": {
    "colab": {
      "name": "Saltiest Hacker Exploration",
      "provenance": [],
      "collapsed_sections": [],
      "include_colab_link": true
    },
    "kernelspec": {
      "name": "python3",
      "display_name": "Python 3"
    }
  },
  "cells": [
    {
      "cell_type": "markdown",
      "metadata": {
        "id": "view-in-github",
        "colab_type": "text"
      },
      "source": [
        "<a href=\"https://colab.research.google.com/github/KryssyCo/API/blob/master/Saltiest_Hacker_Exploration.ipynb\" target=\"_parent\"><img src=\"https://colab.research.google.com/assets/colab-badge.svg\" alt=\"Open In Colab\"/></a>"
      ]
    },
    {
      "cell_type": "code",
      "metadata": {
        "id": "Z2omqxX_3SJm",
        "colab_type": "code",
        "colab": {}
      },
      "source": [
        "import requests"
      ],
      "execution_count": 0,
      "outputs": []
    },
    {
      "cell_type": "code",
      "metadata": {
        "id": "EkyA7e0Q3Xm8",
        "colab_type": "code",
        "outputId": "5c737040-1f67-43f4-af3d-b0683bef84ed",
        "colab": {
          "base_uri": "https://localhost:8080/",
          "height": 34
        }
      },
      "source": [
        "username = \"kick\"\n",
        "response = requests.get(f'https://hacker-news.firebaseio.com/v0/user/{username}.json')\n",
        "# response.encoding = 'utf-8'\n",
        "\n",
        "# Confirm connection success.\n",
        "if response:\n",
        "    print('Success!')\n",
        "else:\n",
        "    print('An error has occurred.')"
      ],
      "execution_count": 0,
      "outputs": [
        {
          "output_type": "stream",
          "text": [
            "Success!\n"
          ],
          "name": "stdout"
        }
      ]
    },
    {
      "cell_type": "code",
      "metadata": {
        "id": "97GMnDWP4R4l",
        "colab_type": "code",
        "colab": {}
      },
      "source": [
        "number_of_posts = len(response.json()[\"submitted\"])"
      ],
      "execution_count": 0,
      "outputs": []
    },
    {
      "cell_type": "code",
      "metadata": {
        "id": "yoGkPnRoUjSs",
        "colab_type": "code",
        "colab": {}
      },
      "source": [
        "import json\n",
        "\n",
        "def get_user_posts(username, filter_posts=\"all\", limit=100):\n",
        "    \"\"\"\n",
        "    Filter by type of item. \n",
        "    One of \"job\", \"story\", \"comment\", \"poll\", or \"pollopt\"\n",
        "    Default: type='comment', limit='100'\n",
        "    \"\"\"\n",
        "    # TODO: currently only supports 'comment' type\n",
        "\n",
        "    response = requests.get(f'https://hacker-news.firebaseio.com/v0/user/{username}.json')\n",
        "    post_ids = response.json()[\"submitted\"]\n",
        "    \n",
        "    filtered_post_ids = []\n",
        "    filtered_posts = []\n",
        "   \n",
        "    for post_id in post_ids:\n",
        "        \n",
        "        # post is a python dict\n",
        "        post = requests.get(f'https://hacker-news.firebaseio.com/v0/item/{post_id}.json').json()\n",
        "\n",
        "        if (post['type'] == filter_posts):\n",
        "            \n",
        "            text = post.get('text')   \n",
        "            \n",
        "            # text==null if post was deleted\n",
        "            if text:\n",
        "                filtered_posts.append(text)\n",
        "                filtered_post_ids.append(post_id)\n",
        "        \n",
        "        # Checks whether the specified limit has been reached\n",
        "        if len(filtered_posts) == limit:\n",
        "            break\n",
        "\n",
        "    return filtered_post_ids, filtered_posts\n"
      ],
      "execution_count": 0,
      "outputs": []
    },
    {
      "cell_type": "code",
      "metadata": {
        "id": "SC8KAykIW5ii",
        "colab_type": "code",
        "colab": {}
      },
      "source": [
        "ids, posts = get_user_posts('kick',filter_posts='comment', limit=300)"
      ],
      "execution_count": 0,
      "outputs": []
    },
    {
      "cell_type": "code",
      "metadata": {
        "id": "BAyfTzPks4Ow",
        "colab_type": "code",
        "outputId": "8369c195-e890-4019-8a78-5e74879e4398",
        "colab": {
          "base_uri": "https://localhost:8080/",
          "height": 34
        }
      },
      "source": [
        "len(posts), len(ids)"
      ],
      "execution_count": 0,
      "outputs": [
        {
          "output_type": "execute_result",
          "data": {
            "text/plain": [
              "(300, 300)"
            ]
          },
          "metadata": {
            "tags": []
          },
          "execution_count": 6
        }
      ]
    },
    {
      "cell_type": "code",
      "metadata": {
        "id": "__OjRHPnhU5z",
        "colab_type": "code",
        "colab": {}
      },
      "source": [
        "post_id = 21805200\n",
        "post = requests.get(f'https://hacker-news.firebaseio.com/v0/item/{post_id}.json').json()"
      ],
      "execution_count": 0,
      "outputs": []
    },
    {
      "cell_type": "code",
      "metadata": {
        "id": "2WAdo6X1iCTl",
        "colab_type": "code",
        "outputId": "61ffd172-ac14-4ab2-c175-4662713268c5",
        "colab": {
          "base_uri": "https://localhost:8080/",
          "height": 154
        }
      },
      "source": [
        "post"
      ],
      "execution_count": 0,
      "outputs": [
        {
          "output_type": "execute_result",
          "data": {
            "text/plain": [
              "{'by': 'mechhacker',\n",
              " 'id': 21805200,\n",
              " 'kids': [21805404],\n",
              " 'parent': 21805141,\n",
              " 'text': 'I took a brief look and these planes are unpressurized.<p>This is opposite of the typical cargo planes, which often are older passenger planes or derived types that still have cabin pressurization.<p>It depends on what you&#x27;re delivering. For the large airplane parts they are designed for, pressurization isn&#x27;t needed.',\n",
              " 'time': 1576518995,\n",
              " 'type': 'comment'}"
            ]
          },
          "metadata": {
            "tags": []
          },
          "execution_count": 8
        }
      ]
    },
    {
      "cell_type": "code",
      "metadata": {
        "id": "0AFlTpRSA0bI",
        "colab_type": "code",
        "colab": {}
      },
      "source": [
        "#Wrong\n",
        "# response = requests.get('https://hacker-news.firebaseio.com/v0/item?id=21831485.json?print=pretty')\n",
        "\n",
        "# Correct\n",
        "id = 21831427\n",
        "response = requests.get(f'https://hacker-news.firebaseio.com/v0/item/{id}.json')"
      ],
      "execution_count": 0,
      "outputs": []
    },
    {
      "cell_type": "code",
      "metadata": {
        "id": "JtENZ0RkY1-i",
        "colab_type": "code",
        "colab": {}
      },
      "source": [
        ""
      ],
      "execution_count": 0,
      "outputs": []
    },
    {
      "cell_type": "code",
      "metadata": {
        "id": "v-nn7g__AzKv",
        "colab_type": "code",
        "outputId": "4899cd19-31ab-4374-84af-b79cbaa23a88",
        "colab": {
          "base_uri": "https://localhost:8080/",
          "height": 54
        }
      },
      "source": [
        "response.json()['text']"
      ],
      "execution_count": 0,
      "outputs": [
        {
          "output_type": "execute_result",
          "data": {
            "text/plain": [
              "'Calling and SMS works without proprietary software already. The ubPorts people already did it:<p><a href=\"https:&#x2F;&#x2F;twitter.com&#x2F;thepine64&#x2F;status&#x2F;1202162774186582017\" rel=\"nofollow\">https:&#x2F;&#x2F;twitter.com&#x2F;thepine64&#x2F;status&#x2F;1202162774186582017</a>'"
            ]
          },
          "metadata": {
            "tags": []
          },
          "execution_count": 10
        }
      ]
    },
    {
      "cell_type": "code",
      "metadata": {
        "id": "Fwmxie824TMP",
        "colab_type": "code",
        "outputId": "128f2744-fe70-4ed3-b847-79909f7bd490",
        "colab": {
          "base_uri": "https://localhost:8080/",
          "height": 229
        }
      },
      "source": [
        "#! /usr/bin/env python3\n",
        "import time\n",
        "import urllib.request\n",
        "import json\n",
        "\n",
        "author = 'pg'\n",
        "num_posts =  0\n",
        "base_url = 'https://hacker-news.firebaseio.com/v0/item/'\n",
        "\n",
        "for itemid in range(1, 100):\n",
        "    # Get item\n",
        "    item_response = urllib.request.urlopen(base_url + str(itemid) + '.json')\n",
        "    response_string = item_response.readall().decode('utf-8')\n",
        "    item = json.loads(response_string)\n",
        "    \n",
        "    # Increment number of posts by author if they wrote this post\n",
        "    if item['by'] == author:\n",
        "        num_posts += 1\n",
        "        \n",
        "    # No one likes to be rate limited\n",
        "    time.sleep(1)\n",
        "\n",
        "print('Posts by {:s}: {:d}'.format(author, num_posts))"
      ],
      "execution_count": 0,
      "outputs": [
        {
          "output_type": "error",
          "ename": "AttributeError",
          "evalue": "ignored",
          "traceback": [
            "\u001b[0;31m---------------------------------------------------------------------------\u001b[0m",
            "\u001b[0;31mAttributeError\u001b[0m                            Traceback (most recent call last)",
            "\u001b[0;32m<ipython-input-11-8131a261ba42>\u001b[0m in \u001b[0;36m<module>\u001b[0;34m()\u001b[0m\n\u001b[1;32m     10\u001b[0m     \u001b[0;31m# Get item\u001b[0m\u001b[0;34m\u001b[0m\u001b[0;34m\u001b[0m\u001b[0;34m\u001b[0m\u001b[0m\n\u001b[1;32m     11\u001b[0m     \u001b[0mitem_response\u001b[0m \u001b[0;34m=\u001b[0m \u001b[0murllib\u001b[0m\u001b[0;34m.\u001b[0m\u001b[0mrequest\u001b[0m\u001b[0;34m.\u001b[0m\u001b[0murlopen\u001b[0m\u001b[0;34m(\u001b[0m\u001b[0mbase_url\u001b[0m \u001b[0;34m+\u001b[0m \u001b[0mstr\u001b[0m\u001b[0;34m(\u001b[0m\u001b[0mitemid\u001b[0m\u001b[0;34m)\u001b[0m \u001b[0;34m+\u001b[0m \u001b[0;34m'.json'\u001b[0m\u001b[0;34m)\u001b[0m\u001b[0;34m\u001b[0m\u001b[0;34m\u001b[0m\u001b[0m\n\u001b[0;32m---> 12\u001b[0;31m     \u001b[0mresponse_string\u001b[0m \u001b[0;34m=\u001b[0m \u001b[0mitem_response\u001b[0m\u001b[0;34m.\u001b[0m\u001b[0mreadall\u001b[0m\u001b[0;34m(\u001b[0m\u001b[0;34m)\u001b[0m\u001b[0;34m.\u001b[0m\u001b[0mdecode\u001b[0m\u001b[0;34m(\u001b[0m\u001b[0;34m'utf-8'\u001b[0m\u001b[0;34m)\u001b[0m\u001b[0;34m\u001b[0m\u001b[0;34m\u001b[0m\u001b[0m\n\u001b[0m\u001b[1;32m     13\u001b[0m     \u001b[0mitem\u001b[0m \u001b[0;34m=\u001b[0m \u001b[0mjson\u001b[0m\u001b[0;34m.\u001b[0m\u001b[0mloads\u001b[0m\u001b[0;34m(\u001b[0m\u001b[0mresponse_string\u001b[0m\u001b[0;34m)\u001b[0m\u001b[0;34m\u001b[0m\u001b[0;34m\u001b[0m\u001b[0m\n\u001b[1;32m     14\u001b[0m \u001b[0;34m\u001b[0m\u001b[0m\n",
            "\u001b[0;31mAttributeError\u001b[0m: 'HTTPResponse' object has no attribute 'readall'"
          ]
        }
      ]
    },
    {
      "cell_type": "code",
      "metadata": {
        "id": "aZ6mWlKO3w9y",
        "colab_type": "code",
        "colab": {}
      },
      "source": [
        ""
      ],
      "execution_count": 0,
      "outputs": []
    }
  ]
}